{
 "cells": [
  {
   "cell_type": "markdown",
   "id": "5a9650c5",
   "metadata": {},
   "source": [
    "# 2.2 SUPPORT VECTOR MACHINE (SVM)"
   ]
  },
  {
   "cell_type": "markdown",
   "id": "bdd13f21",
   "metadata": {},
   "source": [
    "## 2.2.1. Ôn tập lý thuyết\n"
   ]
  },
  {
   "cell_type": "markdown",
   "id": "4a8cf35e",
   "metadata": {},
   "source": [
    "## 2.2.2. Bài làm mẫu"
   ]
  },
  {
   "cell_type": "markdown",
   "id": "49fe18ba",
   "metadata": {},
   "source": [
    "### Bài toán 1: Thực hiện các nhiệm vụ trong bài toán 1 để xây dựng mô hình với giải thuật SVM cho dữ liệu\n",
    "Iris-data lấy từ https://www.kaggle.com/code/xvivancos/tutorial-knn-in-the-iris-data-set "
   ]
  },
  {
   "cell_type": "markdown",
   "id": "8ac6e012",
   "metadata": {},
   "source": [
    "#### Nhiệm vụ 1: Xây dựng mô hình SVM để phân loại các loài hoa cẩm chướng\n",
    "\n"
   ]
  },
  {
   "cell_type": "markdown",
   "id": "078e54cc",
   "metadata": {},
   "source": [
    "1. Tải dữ liệu về, nạp dữ liệu, xem thông tin các feature có trong tập dữ liệu và chuẩn bị dữ liệu cho xây\n",
    "dựng mô hình"
   ]
  },
  {
   "cell_type": "code",
   "execution_count": 1,
   "id": "7a4e2249",
   "metadata": {},
   "outputs": [
    {
     "name": "stdout",
     "output_type": "stream",
     "text": [
      ".. _iris_dataset:\n",
      "\n",
      "Iris plants dataset\n",
      "--------------------\n",
      "\n",
      "**Data Set Characteristics:**\n",
      "\n",
      ":Number of Instances: 150 (50 in each of three classes)\n",
      ":Number of Attributes: 4 numeric, predictive attributes and the class\n",
      ":Attribute Information:\n",
      "    - sepal length in cm\n",
      "    - sepal width in cm\n",
      "    - petal length in cm\n",
      "    - petal width in cm\n",
      "    - class:\n",
      "            - Iris-Setosa\n",
      "            - Iris-Versicolour\n",
      "            - Iris-Virginica\n",
      "\n",
      ":Summary Statistics:\n",
      "\n",
      "============== ==== ==== ======= ===== ====================\n",
      "                Min  Max   Mean    SD   Class Correlation\n",
      "============== ==== ==== ======= ===== ====================\n",
      "sepal length:   4.3  7.9   5.84   0.83    0.7826\n",
      "sepal width:    2.0  4.4   3.05   0.43   -0.4194\n",
      "petal length:   1.0  6.9   3.76   1.76    0.9490  (high!)\n",
      "petal width:    0.1  2.5   1.20   0.76    0.9565  (high!)\n",
      "============== ==== ==== ======= ===== ====================\n",
      "\n",
      ":Missing Attribute Values: None\n",
      ":Class Distribution: 33.3% for each of 3 classes.\n",
      ":Creator: R.A. Fisher\n",
      ":Donor: Michael Marshall (MARSHALL%PLU@io.arc.nasa.gov)\n",
      ":Date: July, 1988\n",
      "\n",
      "The famous Iris database, first used by Sir R.A. Fisher. The dataset is taken\n",
      "from Fisher's paper. Note that it's the same as in R, but not as in the UCI\n",
      "Machine Learning Repository, which has two wrong data points.\n",
      "\n",
      "This is perhaps the best known database to be found in the\n",
      "pattern recognition literature.  Fisher's paper is a classic in the field and\n",
      "is referenced frequently to this day.  (See Duda & Hart, for example.)  The\n",
      "data set contains 3 classes of 50 instances each, where each class refers to a\n",
      "type of iris plant.  One class is linearly separable from the other 2; the\n",
      "latter are NOT linearly separable from each other.\n",
      "\n",
      ".. dropdown:: References\n",
      "\n",
      "  - Fisher, R.A. \"The use of multiple measurements in taxonomic problems\"\n",
      "    Annual Eugenics, 7, Part II, 179-188 (1936); also in \"Contributions to\n",
      "    Mathematical Statistics\" (John Wiley, NY, 1950).\n",
      "  - Duda, R.O., & Hart, P.E. (1973) Pattern Classification and Scene Analysis.\n",
      "    (Q327.D83) John Wiley & Sons.  ISBN 0-471-22361-1.  See page 218.\n",
      "  - Dasarathy, B.V. (1980) \"Nosing Around the Neighborhood: A New System\n",
      "    Structure and Classification Rule for Recognition in Partially Exposed\n",
      "    Environments\".  IEEE Transactions on Pattern Analysis and Machine\n",
      "    Intelligence, Vol. PAMI-2, No. 1, 67-71.\n",
      "  - Gates, G.W. (1972) \"The Reduced Nearest Neighbor Rule\".  IEEE Transactions\n",
      "    on Information Theory, May 1972, 431-433.\n",
      "  - See also: 1988 MLC Proceedings, 54-64.  Cheeseman et al\"s AUTOCLASS II\n",
      "    conceptual clustering system finds 3 classes in the data.\n",
      "  - Many, many more ...\n",
      "\n"
     ]
    }
   ],
   "source": [
    "import numpy as np\n",
    "from sklearn import datasets\n",
    "from sklearn.model_selection import train_test_split\n",
    "# Download&Load dữ liệu iris từ datasets của scikit-learn\n",
    "iris = datasets.load_iris()\n",
    "# Hiển thị mô ta dữ liệu, chỉ có trong các bộ dữ liệu chuẩn và mở để học tập và nghiên cứu\n",
    "print(iris.DESCR)\n",
    "# Từ tập dữ liệu ban đầu, tách lấy ma trận biểu diễn các đặc trưng và nhãn.\n",
    "data = iris.data\n",
    "target = iris.target\n",
    "# TODO: Chia dữ liệu và nhãn thành 2 tập dữ liệu huấn luyện và dữ liệu kiểm tra theo tỉ lệ 80:20\n",
    "X_train, X_test, y_train, y_test = train_test_split(data, target,\n",
    "test_size\n",
    " = 0.2, random_state=101)"
   ]
  },
  {
   "cell_type": "markdown",
   "id": "c260b2a3",
   "metadata": {},
   "source": [
    "2. Tạo mô hình SVM với dữ liệu đã chuẩn bị\n"
   ]
  },
  {
   "cell_type": "code",
   "execution_count": 2,
   "id": "5cd0621e",
   "metadata": {},
   "outputs": [
    {
     "data": {
      "text/html": [
       "<style>#sk-container-id-1 {\n",
       "  /* Definition of color scheme common for light and dark mode */\n",
       "  --sklearn-color-text: #000;\n",
       "  --sklearn-color-text-muted: #666;\n",
       "  --sklearn-color-line: gray;\n",
       "  /* Definition of color scheme for unfitted estimators */\n",
       "  --sklearn-color-unfitted-level-0: #fff5e6;\n",
       "  --sklearn-color-unfitted-level-1: #f6e4d2;\n",
       "  --sklearn-color-unfitted-level-2: #ffe0b3;\n",
       "  --sklearn-color-unfitted-level-3: chocolate;\n",
       "  /* Definition of color scheme for fitted estimators */\n",
       "  --sklearn-color-fitted-level-0: #f0f8ff;\n",
       "  --sklearn-color-fitted-level-1: #d4ebff;\n",
       "  --sklearn-color-fitted-level-2: #b3dbfd;\n",
       "  --sklearn-color-fitted-level-3: cornflowerblue;\n",
       "\n",
       "  /* Specific color for light theme */\n",
       "  --sklearn-color-text-on-default-background: var(--sg-text-color, var(--theme-code-foreground, var(--jp-content-font-color1, black)));\n",
       "  --sklearn-color-background: var(--sg-background-color, var(--theme-background, var(--jp-layout-color0, white)));\n",
       "  --sklearn-color-border-box: var(--sg-text-color, var(--theme-code-foreground, var(--jp-content-font-color1, black)));\n",
       "  --sklearn-color-icon: #696969;\n",
       "\n",
       "  @media (prefers-color-scheme: dark) {\n",
       "    /* Redefinition of color scheme for dark theme */\n",
       "    --sklearn-color-text-on-default-background: var(--sg-text-color, var(--theme-code-foreground, var(--jp-content-font-color1, white)));\n",
       "    --sklearn-color-background: var(--sg-background-color, var(--theme-background, var(--jp-layout-color0, #111)));\n",
       "    --sklearn-color-border-box: var(--sg-text-color, var(--theme-code-foreground, var(--jp-content-font-color1, white)));\n",
       "    --sklearn-color-icon: #878787;\n",
       "  }\n",
       "}\n",
       "\n",
       "#sk-container-id-1 {\n",
       "  color: var(--sklearn-color-text);\n",
       "}\n",
       "\n",
       "#sk-container-id-1 pre {\n",
       "  padding: 0;\n",
       "}\n",
       "\n",
       "#sk-container-id-1 input.sk-hidden--visually {\n",
       "  border: 0;\n",
       "  clip: rect(1px 1px 1px 1px);\n",
       "  clip: rect(1px, 1px, 1px, 1px);\n",
       "  height: 1px;\n",
       "  margin: -1px;\n",
       "  overflow: hidden;\n",
       "  padding: 0;\n",
       "  position: absolute;\n",
       "  width: 1px;\n",
       "}\n",
       "\n",
       "#sk-container-id-1 div.sk-dashed-wrapped {\n",
       "  border: 1px dashed var(--sklearn-color-line);\n",
       "  margin: 0 0.4em 0.5em 0.4em;\n",
       "  box-sizing: border-box;\n",
       "  padding-bottom: 0.4em;\n",
       "  background-color: var(--sklearn-color-background);\n",
       "}\n",
       "\n",
       "#sk-container-id-1 div.sk-container {\n",
       "  /* jupyter's `normalize.less` sets `[hidden] { display: none; }`\n",
       "     but bootstrap.min.css set `[hidden] { display: none !important; }`\n",
       "     so we also need the `!important` here to be able to override the\n",
       "     default hidden behavior on the sphinx rendered scikit-learn.org.\n",
       "     See: https://github.com/scikit-learn/scikit-learn/issues/21755 */\n",
       "  display: inline-block !important;\n",
       "  position: relative;\n",
       "}\n",
       "\n",
       "#sk-container-id-1 div.sk-text-repr-fallback {\n",
       "  display: none;\n",
       "}\n",
       "\n",
       "div.sk-parallel-item,\n",
       "div.sk-serial,\n",
       "div.sk-item {\n",
       "  /* draw centered vertical line to link estimators */\n",
       "  background-image: linear-gradient(var(--sklearn-color-text-on-default-background), var(--sklearn-color-text-on-default-background));\n",
       "  background-size: 2px 100%;\n",
       "  background-repeat: no-repeat;\n",
       "  background-position: center center;\n",
       "}\n",
       "\n",
       "/* Parallel-specific style estimator block */\n",
       "\n",
       "#sk-container-id-1 div.sk-parallel-item::after {\n",
       "  content: \"\";\n",
       "  width: 100%;\n",
       "  border-bottom: 2px solid var(--sklearn-color-text-on-default-background);\n",
       "  flex-grow: 1;\n",
       "}\n",
       "\n",
       "#sk-container-id-1 div.sk-parallel {\n",
       "  display: flex;\n",
       "  align-items: stretch;\n",
       "  justify-content: center;\n",
       "  background-color: var(--sklearn-color-background);\n",
       "  position: relative;\n",
       "}\n",
       "\n",
       "#sk-container-id-1 div.sk-parallel-item {\n",
       "  display: flex;\n",
       "  flex-direction: column;\n",
       "}\n",
       "\n",
       "#sk-container-id-1 div.sk-parallel-item:first-child::after {\n",
       "  align-self: flex-end;\n",
       "  width: 50%;\n",
       "}\n",
       "\n",
       "#sk-container-id-1 div.sk-parallel-item:last-child::after {\n",
       "  align-self: flex-start;\n",
       "  width: 50%;\n",
       "}\n",
       "\n",
       "#sk-container-id-1 div.sk-parallel-item:only-child::after {\n",
       "  width: 0;\n",
       "}\n",
       "\n",
       "/* Serial-specific style estimator block */\n",
       "\n",
       "#sk-container-id-1 div.sk-serial {\n",
       "  display: flex;\n",
       "  flex-direction: column;\n",
       "  align-items: center;\n",
       "  background-color: var(--sklearn-color-background);\n",
       "  padding-right: 1em;\n",
       "  padding-left: 1em;\n",
       "}\n",
       "\n",
       "\n",
       "/* Toggleable style: style used for estimator/Pipeline/ColumnTransformer box that is\n",
       "clickable and can be expanded/collapsed.\n",
       "- Pipeline and ColumnTransformer use this feature and define the default style\n",
       "- Estimators will overwrite some part of the style using the `sk-estimator` class\n",
       "*/\n",
       "\n",
       "/* Pipeline and ColumnTransformer style (default) */\n",
       "\n",
       "#sk-container-id-1 div.sk-toggleable {\n",
       "  /* Default theme specific background. It is overwritten whether we have a\n",
       "  specific estimator or a Pipeline/ColumnTransformer */\n",
       "  background-color: var(--sklearn-color-background);\n",
       "}\n",
       "\n",
       "/* Toggleable label */\n",
       "#sk-container-id-1 label.sk-toggleable__label {\n",
       "  cursor: pointer;\n",
       "  display: flex;\n",
       "  width: 100%;\n",
       "  margin-bottom: 0;\n",
       "  padding: 0.5em;\n",
       "  box-sizing: border-box;\n",
       "  text-align: center;\n",
       "  align-items: start;\n",
       "  justify-content: space-between;\n",
       "  gap: 0.5em;\n",
       "}\n",
       "\n",
       "#sk-container-id-1 label.sk-toggleable__label .caption {\n",
       "  font-size: 0.6rem;\n",
       "  font-weight: lighter;\n",
       "  color: var(--sklearn-color-text-muted);\n",
       "}\n",
       "\n",
       "#sk-container-id-1 label.sk-toggleable__label-arrow:before {\n",
       "  /* Arrow on the left of the label */\n",
       "  content: \"▸\";\n",
       "  float: left;\n",
       "  margin-right: 0.25em;\n",
       "  color: var(--sklearn-color-icon);\n",
       "}\n",
       "\n",
       "#sk-container-id-1 label.sk-toggleable__label-arrow:hover:before {\n",
       "  color: var(--sklearn-color-text);\n",
       "}\n",
       "\n",
       "/* Toggleable content - dropdown */\n",
       "\n",
       "#sk-container-id-1 div.sk-toggleable__content {\n",
       "  max-height: 0;\n",
       "  max-width: 0;\n",
       "  overflow: hidden;\n",
       "  text-align: left;\n",
       "  /* unfitted */\n",
       "  background-color: var(--sklearn-color-unfitted-level-0);\n",
       "}\n",
       "\n",
       "#sk-container-id-1 div.sk-toggleable__content.fitted {\n",
       "  /* fitted */\n",
       "  background-color: var(--sklearn-color-fitted-level-0);\n",
       "}\n",
       "\n",
       "#sk-container-id-1 div.sk-toggleable__content pre {\n",
       "  margin: 0.2em;\n",
       "  border-radius: 0.25em;\n",
       "  color: var(--sklearn-color-text);\n",
       "  /* unfitted */\n",
       "  background-color: var(--sklearn-color-unfitted-level-0);\n",
       "}\n",
       "\n",
       "#sk-container-id-1 div.sk-toggleable__content.fitted pre {\n",
       "  /* unfitted */\n",
       "  background-color: var(--sklearn-color-fitted-level-0);\n",
       "}\n",
       "\n",
       "#sk-container-id-1 input.sk-toggleable__control:checked~div.sk-toggleable__content {\n",
       "  /* Expand drop-down */\n",
       "  max-height: 200px;\n",
       "  max-width: 100%;\n",
       "  overflow: auto;\n",
       "}\n",
       "\n",
       "#sk-container-id-1 input.sk-toggleable__control:checked~label.sk-toggleable__label-arrow:before {\n",
       "  content: \"▾\";\n",
       "}\n",
       "\n",
       "/* Pipeline/ColumnTransformer-specific style */\n",
       "\n",
       "#sk-container-id-1 div.sk-label input.sk-toggleable__control:checked~label.sk-toggleable__label {\n",
       "  color: var(--sklearn-color-text);\n",
       "  background-color: var(--sklearn-color-unfitted-level-2);\n",
       "}\n",
       "\n",
       "#sk-container-id-1 div.sk-label.fitted input.sk-toggleable__control:checked~label.sk-toggleable__label {\n",
       "  background-color: var(--sklearn-color-fitted-level-2);\n",
       "}\n",
       "\n",
       "/* Estimator-specific style */\n",
       "\n",
       "/* Colorize estimator box */\n",
       "#sk-container-id-1 div.sk-estimator input.sk-toggleable__control:checked~label.sk-toggleable__label {\n",
       "  /* unfitted */\n",
       "  background-color: var(--sklearn-color-unfitted-level-2);\n",
       "}\n",
       "\n",
       "#sk-container-id-1 div.sk-estimator.fitted input.sk-toggleable__control:checked~label.sk-toggleable__label {\n",
       "  /* fitted */\n",
       "  background-color: var(--sklearn-color-fitted-level-2);\n",
       "}\n",
       "\n",
       "#sk-container-id-1 div.sk-label label.sk-toggleable__label,\n",
       "#sk-container-id-1 div.sk-label label {\n",
       "  /* The background is the default theme color */\n",
       "  color: var(--sklearn-color-text-on-default-background);\n",
       "}\n",
       "\n",
       "/* On hover, darken the color of the background */\n",
       "#sk-container-id-1 div.sk-label:hover label.sk-toggleable__label {\n",
       "  color: var(--sklearn-color-text);\n",
       "  background-color: var(--sklearn-color-unfitted-level-2);\n",
       "}\n",
       "\n",
       "/* Label box, darken color on hover, fitted */\n",
       "#sk-container-id-1 div.sk-label.fitted:hover label.sk-toggleable__label.fitted {\n",
       "  color: var(--sklearn-color-text);\n",
       "  background-color: var(--sklearn-color-fitted-level-2);\n",
       "}\n",
       "\n",
       "/* Estimator label */\n",
       "\n",
       "#sk-container-id-1 div.sk-label label {\n",
       "  font-family: monospace;\n",
       "  font-weight: bold;\n",
       "  display: inline-block;\n",
       "  line-height: 1.2em;\n",
       "}\n",
       "\n",
       "#sk-container-id-1 div.sk-label-container {\n",
       "  text-align: center;\n",
       "}\n",
       "\n",
       "/* Estimator-specific */\n",
       "#sk-container-id-1 div.sk-estimator {\n",
       "  font-family: monospace;\n",
       "  border: 1px dotted var(--sklearn-color-border-box);\n",
       "  border-radius: 0.25em;\n",
       "  box-sizing: border-box;\n",
       "  margin-bottom: 0.5em;\n",
       "  /* unfitted */\n",
       "  background-color: var(--sklearn-color-unfitted-level-0);\n",
       "}\n",
       "\n",
       "#sk-container-id-1 div.sk-estimator.fitted {\n",
       "  /* fitted */\n",
       "  background-color: var(--sklearn-color-fitted-level-0);\n",
       "}\n",
       "\n",
       "/* on hover */\n",
       "#sk-container-id-1 div.sk-estimator:hover {\n",
       "  /* unfitted */\n",
       "  background-color: var(--sklearn-color-unfitted-level-2);\n",
       "}\n",
       "\n",
       "#sk-container-id-1 div.sk-estimator.fitted:hover {\n",
       "  /* fitted */\n",
       "  background-color: var(--sklearn-color-fitted-level-2);\n",
       "}\n",
       "\n",
       "/* Specification for estimator info (e.g. \"i\" and \"?\") */\n",
       "\n",
       "/* Common style for \"i\" and \"?\" */\n",
       "\n",
       ".sk-estimator-doc-link,\n",
       "a:link.sk-estimator-doc-link,\n",
       "a:visited.sk-estimator-doc-link {\n",
       "  float: right;\n",
       "  font-size: smaller;\n",
       "  line-height: 1em;\n",
       "  font-family: monospace;\n",
       "  background-color: var(--sklearn-color-background);\n",
       "  border-radius: 1em;\n",
       "  height: 1em;\n",
       "  width: 1em;\n",
       "  text-decoration: none !important;\n",
       "  margin-left: 0.5em;\n",
       "  text-align: center;\n",
       "  /* unfitted */\n",
       "  border: var(--sklearn-color-unfitted-level-1) 1pt solid;\n",
       "  color: var(--sklearn-color-unfitted-level-1);\n",
       "}\n",
       "\n",
       ".sk-estimator-doc-link.fitted,\n",
       "a:link.sk-estimator-doc-link.fitted,\n",
       "a:visited.sk-estimator-doc-link.fitted {\n",
       "  /* fitted */\n",
       "  border: var(--sklearn-color-fitted-level-1) 1pt solid;\n",
       "  color: var(--sklearn-color-fitted-level-1);\n",
       "}\n",
       "\n",
       "/* On hover */\n",
       "div.sk-estimator:hover .sk-estimator-doc-link:hover,\n",
       ".sk-estimator-doc-link:hover,\n",
       "div.sk-label-container:hover .sk-estimator-doc-link:hover,\n",
       ".sk-estimator-doc-link:hover {\n",
       "  /* unfitted */\n",
       "  background-color: var(--sklearn-color-unfitted-level-3);\n",
       "  color: var(--sklearn-color-background);\n",
       "  text-decoration: none;\n",
       "}\n",
       "\n",
       "div.sk-estimator.fitted:hover .sk-estimator-doc-link.fitted:hover,\n",
       ".sk-estimator-doc-link.fitted:hover,\n",
       "div.sk-label-container:hover .sk-estimator-doc-link.fitted:hover,\n",
       ".sk-estimator-doc-link.fitted:hover {\n",
       "  /* fitted */\n",
       "  background-color: var(--sklearn-color-fitted-level-3);\n",
       "  color: var(--sklearn-color-background);\n",
       "  text-decoration: none;\n",
       "}\n",
       "\n",
       "/* Span, style for the box shown on hovering the info icon */\n",
       ".sk-estimator-doc-link span {\n",
       "  display: none;\n",
       "  z-index: 9999;\n",
       "  position: relative;\n",
       "  font-weight: normal;\n",
       "  right: .2ex;\n",
       "  padding: .5ex;\n",
       "  margin: .5ex;\n",
       "  width: min-content;\n",
       "  min-width: 20ex;\n",
       "  max-width: 50ex;\n",
       "  color: var(--sklearn-color-text);\n",
       "  box-shadow: 2pt 2pt 4pt #999;\n",
       "  /* unfitted */\n",
       "  background: var(--sklearn-color-unfitted-level-0);\n",
       "  border: .5pt solid var(--sklearn-color-unfitted-level-3);\n",
       "}\n",
       "\n",
       ".sk-estimator-doc-link.fitted span {\n",
       "  /* fitted */\n",
       "  background: var(--sklearn-color-fitted-level-0);\n",
       "  border: var(--sklearn-color-fitted-level-3);\n",
       "}\n",
       "\n",
       ".sk-estimator-doc-link:hover span {\n",
       "  display: block;\n",
       "}\n",
       "\n",
       "/* \"?\"-specific style due to the `<a>` HTML tag */\n",
       "\n",
       "#sk-container-id-1 a.estimator_doc_link {\n",
       "  float: right;\n",
       "  font-size: 1rem;\n",
       "  line-height: 1em;\n",
       "  font-family: monospace;\n",
       "  background-color: var(--sklearn-color-background);\n",
       "  border-radius: 1rem;\n",
       "  height: 1rem;\n",
       "  width: 1rem;\n",
       "  text-decoration: none;\n",
       "  /* unfitted */\n",
       "  color: var(--sklearn-color-unfitted-level-1);\n",
       "  border: var(--sklearn-color-unfitted-level-1) 1pt solid;\n",
       "}\n",
       "\n",
       "#sk-container-id-1 a.estimator_doc_link.fitted {\n",
       "  /* fitted */\n",
       "  border: var(--sklearn-color-fitted-level-1) 1pt solid;\n",
       "  color: var(--sklearn-color-fitted-level-1);\n",
       "}\n",
       "\n",
       "/* On hover */\n",
       "#sk-container-id-1 a.estimator_doc_link:hover {\n",
       "  /* unfitted */\n",
       "  background-color: var(--sklearn-color-unfitted-level-3);\n",
       "  color: var(--sklearn-color-background);\n",
       "  text-decoration: none;\n",
       "}\n",
       "\n",
       "#sk-container-id-1 a.estimator_doc_link.fitted:hover {\n",
       "  /* fitted */\n",
       "  background-color: var(--sklearn-color-fitted-level-3);\n",
       "}\n",
       "</style><div id=\"sk-container-id-1\" class=\"sk-top-container\"><div class=\"sk-text-repr-fallback\"><pre>SVC()</pre><b>In a Jupyter environment, please rerun this cell to show the HTML representation or trust the notebook. <br />On GitHub, the HTML representation is unable to render, please try loading this page with nbviewer.org.</b></div><div class=\"sk-container\" hidden><div class=\"sk-item\"><div class=\"sk-estimator fitted sk-toggleable\"><input class=\"sk-toggleable__control sk-hidden--visually\" id=\"sk-estimator-id-1\" type=\"checkbox\" checked><label for=\"sk-estimator-id-1\" class=\"sk-toggleable__label fitted sk-toggleable__label-arrow\"><div><div>SVC</div></div><div><a class=\"sk-estimator-doc-link fitted\" rel=\"noreferrer\" target=\"_blank\" href=\"https://scikit-learn.org/1.6/modules/generated/sklearn.svm.SVC.html\">?<span>Documentation for SVC</span></a><span class=\"sk-estimator-doc-link fitted\">i<span>Fitted</span></span></div></label><div class=\"sk-toggleable__content fitted\"><pre>SVC()</pre></div> </div></div></div></div>"
      ],
      "text/plain": [
       "SVC()"
      ]
     },
     "execution_count": 2,
     "metadata": {},
     "output_type": "execute_result"
    }
   ],
   "source": [
    "from sklearn import svm\n",
    "# khởi tạo mô hình phân lớp\n",
    "clf = svm.SVC()\n",
    "# Sử dụng phương thức 'fit' để huấn luyện mô hình với dữ liệu huấn luyện và nhãn huấn luyện\n",
    "# fit (X,Y) với X là tập các đối tượng, Y là tập nhãn tương ứng của đối tượng.\n",
    "clf.fit(X_train, y_train)"
   ]
  },
  {
   "cell_type": "markdown",
   "id": "96132114",
   "metadata": {},
   "source": [
    "3. Đánh giá độ chính xác của mô hình "
   ]
  },
  {
   "cell_type": "code",
   "execution_count": 3,
   "id": "8eacfd32",
   "metadata": {},
   "outputs": [
    {
     "name": "stdout",
     "output_type": "stream",
     "text": [
      "Training accuracy: 0.95\n",
      "Validation accuracy: 0.9666666666666667\n"
     ]
    }
   ],
   "source": [
    "# Tính độ chính xác trên tập huấn luyện và tập kiểm tra\n",
    "train_acc = clf.score(X_train,y_train)\n",
    "val_acc = clf.score(X_test,y_test)\n",
    "print('Training accuracy: {}'.format(train_acc))\n",
    "print('Validation accuracy: {}'.format(val_acc))"
   ]
  },
  {
   "cell_type": "markdown",
   "id": "bc2bf829",
   "metadata": {},
   "source": [
    "4. Tìm tham số kernel tối ưu cho mô hình SVM\n"
   ]
  },
  {
   "cell_type": "code",
   "execution_count": 4,
   "id": "cacb13ab",
   "metadata": {},
   "outputs": [
    {
     "name": "stdout",
     "output_type": "stream",
     "text": [
      "Best validation accuracy : 1.0 with kernel: linear\n"
     ]
    }
   ],
   "source": [
    "# best_svm, best_val_acc và best_kernel lần lượt là các biến lưu mô hình tốt nhất, \n",
    "# độ chính xác cao nhất trên tập kiểm tra và kernel tốt nhất\n",
    "kernels = ['linear', 'poly', 'rbf', 'sigmoid']\n",
    "best_svm = None\n",
    "best_val_acc = -1\n",
    "best_kernel = None\n",
    "# Huấn luyện các mô hình dựa trên dữ liệu huấn luyện và tham số kernel\n",
    "# Tính toán độ chính xác trên tập huấn luyện và tập kiểm tra để tìm được mô hình tốt nhất\n",
    "for i in range(4):\n",
    "    clf = svm.SVC(kernel=kernels[i], probability=True)\n",
    "    clf.fit(X_train, y_train)\n",
    "    tmp_val_acc = clf.score(X_test, y_test)\n",
    "    if (tmp_val_acc > best_val_acc):\n",
    "        best_val_acc = tmp_val_acc\n",
    "        best_svm = clf\n",
    "        best_kernel = kernels[i]\n",
    "# Hiển thị mô hình tốt nhất cùng với độ chính xác\n",
    "print(\"Best validation accuracy : {} with kernel: {}\".format(best_val_acc,\n",
    "best_kernel))\n",
    "# Mô hình tốt nhất của bạn nên có độ chính xác xấp xỉ 86,67%"
   ]
  },
  {
   "cell_type": "markdown",
   "id": "c29da7e5",
   "metadata": {},
   "source": [
    "### Bài toán 2: Xây dựng mô hình dựa vào giải thuật SVM trên dữ liệu hình ảnh Handwritten-Digit-MNISTSVM. \n",
    "\n",
    "Dữ liệu lấy từ https://www.kaggle.com/code/nishan192/mnist-digit-recognition-using-svm"
   ]
  },
  {
   "cell_type": "markdown",
   "id": "b2a9c924",
   "metadata": {},
   "source": [
    "#### Nhiệm vụ 1: Tìm hiểu về cách biểu diễn và hiển thị các ảnh từ tập dữ liệu là hình ảnh"
   ]
  },
  {
   "cell_type": "markdown",
   "id": "2aa9e5af",
   "metadata": {},
   "source": [
    "1. Import thư viện và tải dữ liệu là tập các hình ảnh viết tay từ số 0 đến số 9`"
   ]
  },
  {
   "cell_type": "code",
   "execution_count": 5,
   "id": "93331477",
   "metadata": {},
   "outputs": [],
   "source": [
    "import pandas as pd\n",
    "import numpy as np\n",
    "import matplotlib as mpl\n",
    "import matplotlib.pyplot as plt\n",
    "from sklearn.datasets import load_digits\n",
    "digits = load_digits(n_class=10)"
   ]
  },
  {
   "cell_type": "markdown",
   "id": "481ef845",
   "metadata": {},
   "source": [
    "2. Khảo sát thông tin có trong digits"
   ]
  },
  {
   "cell_type": "code",
   "execution_count": 6,
   "id": "a9d213c2",
   "metadata": {},
   "outputs": [
    {
     "data": {
      "text/plain": [
       "array([0, 1, 2, 3, 4, 5, 6, 7, 8])"
      ]
     },
     "execution_count": 6,
     "metadata": {},
     "output_type": "execute_result"
    }
   ],
   "source": [
    "#thông tin toàn bộ dữ liệu đã tải về\n",
    "digits\n",
    "#xem thông tin của một hình dưới dạng ma trận 8 x 8\n",
    "digits['data'][0].reshape(8,8)\n",
    "#xem thông tin của một hình dưới dạng mảng\n",
    "digits['data'][0]\n",
    "#xem thông tin 9 nhãn đầu tiên\n",
    "digits['target'][0:9]\n"
   ]
  },
  {
   "cell_type": "code",
   "execution_count": 7,
   "id": "fb88fc01",
   "metadata": {},
   "outputs": [
    {
     "data": {
      "text/plain": [
       "array([0, 1, 2, 3, 4, 5, 6, 7, 8])"
      ]
     },
     "execution_count": 7,
     "metadata": {},
     "output_type": "execute_result"
    }
   ],
   "source": [
    "#xem thông tin của một hình dưới dạng mảng\n",
    "digits['data'][0]\n",
    "#xem thông tin 9 nhãn đầu tiên\n",
    "digits['target'][0:9]\n"
   ]
  },
  {
   "cell_type": "markdown",
   "id": "f8ab8893",
   "metadata": {},
   "source": [
    "3. Vẽ ra hình dựa vào dữ liệu dạng ma trận 8 x 8"
   ]
  },
  {
   "cell_type": "code",
   "execution_count": 8,
   "id": "6d878903",
   "metadata": {},
   "outputs": [
    {
     "data": {
      "image/png": "[encoded data removed]",
      "text/plain": [
       "<Figure size 1000x1000 with 64 Axes>"
      ]
     },
     "metadata": {},
     "output_type": "display_data"
    }
   ],
   "source": [
    "# Each Digit is represented in digits.images as a matrix of 8x8 = 64 pixels. Each of the 64 values represent\n",
    "# a greyscale. The Greyscale are then plotted in the right scale by the imshow method.\n",
    "fig, ax = plt.subplots(8,8, figsize=(10,10))\n",
    "for i, axi in enumerate(ax.flat):\n",
    " axi.imshow(digits.images[i], cmap='binary')\n",
    " axi.set(xticks=[], yticks=[])\n"
   ]
  },
  {
   "cell_type": "markdown",
   "id": "6428e928",
   "metadata": {},
   "source": [
    "4. Vẽ một ảnh từ ma trận 8 x 8"
   ]
  },
  {
   "cell_type": "code",
   "execution_count": 9,
   "id": "5a7cc23f",
   "metadata": {},
   "outputs": [
    {
     "data": {
      "image/png": "[encoded data removed]",
      "text/plain": [
       "<Figure size 640x480 with 1 Axes>"
      ]
     },
     "metadata": {},
     "output_type": "display_data"
    }
   ],
   "source": [
    "# Hàm vẽ 1 ảnh có kích thước 8 x 8 (ảnh lấy từ ma images)\n",
    "def view_digit(index):\n",
    " plt.imshow(digits.images[index] , cmap = plt.cm.gray_r)\n",
    " plt.title('Orignal it is: '+ str(digits.target[index]))\n",
    " plt.show()\n",
    "# vẽ ảnh ở vị trí thứ 4\n",
    "view_digit(4)"
   ]
  },
  {
   "cell_type": "markdown",
   "id": "23ba5ce7",
   "metadata": {},
   "source": [
    "#### Nhiệm vụ 2: Xây dựng mô hình SVM để nhận diện chữ viết tay từ 0 – 9\n"
   ]
  },
  {
   "cell_type": "markdown",
   "id": "1ecc6323",
   "metadata": {},
   "source": [
    "1. Chuẩn bị dữ liệu và xây dựng mô hình SVM"
   ]
  },
  {
   "cell_type": "code",
   "execution_count": 10,
   "id": "e1abc216",
   "metadata": {},
   "outputs": [],
   "source": [
    "# Thực hiện import các thư viện cần thiết để xây dựng mô hình SVM\n",
    "# Thực hiện bước 1 của nhiệm vụ 1\n",
    "from sklearn import svm\n",
    "main_data = digits['data']\n",
    "targets = digits['target']\n",
    "svc = svm.SVC(gamma=0.001 , C = 100)\n",
    "# GAMMA is a parameter for non linear hyperplanes.\n",
    "# The higher the gamma value it tries to exactly fit the training data set\n",
    "# C is the penalty parameter of the error term.\n",
    "# It controls the trade off between smooth decision boundary and classifying the training points correctly.\n",
    "svc.fit(main_data[:1500] , targets[:1500])\n",
    "predictions = svc.predict(main_data[1501:])\n",
    "# list(zip(predictions , targets[1501:])"
   ]
  },
  {
   "cell_type": "markdown",
   "id": "ac51bc20",
   "metadata": {},
   "source": [
    "2. Đánh giá hiệu quả của mô hình với Confusion Matrix"
   ]
  },
  {
   "cell_type": "code",
   "execution_count": 11,
   "id": "c04f5a9e",
   "metadata": {},
   "outputs": [
    {
     "data": {
      "image/png": "[encoded data removed]",
      "text/plain": [
       "<Figure size 800x500 with 2 Axes>"
      ]
     },
     "metadata": {},
     "output_type": "display_data"
    }
   ],
   "source": [
    "from sklearn.metrics import confusion_matrix\n",
    "import seaborn as sns\n",
    "cm = confusion_matrix(predictions, targets[1501:])\n",
    "conf_matrix = pd.DataFrame(data = cm)\n",
    "plt.figure(figsize = (8,5))\n",
    "sns.heatmap(conf_matrix, annot=True,fmt='d',cmap=\"YlGnBu\");"
   ]
  },
  {
   "cell_type": "markdown",
   "id": "b1f834fe",
   "metadata": {},
   "source": [
    "3. In kết quả dạng văn bản\n"
   ]
  },
  {
   "cell_type": "code",
   "execution_count": 12,
   "id": "56a66674",
   "metadata": {},
   "outputs": [
    {
     "name": "stdout",
     "output_type": "stream",
     "text": [
      "              precision    recall  f1-score   support\n",
      "\n",
      "           0       0.96      1.00      0.98        26\n",
      "           1       1.00      0.94      0.97        32\n",
      "           2       1.00      1.00      1.00        27\n",
      "           3       0.80      1.00      0.89        24\n",
      "           4       0.91      0.97      0.94        31\n",
      "           5       1.00      0.91      0.95        33\n",
      "           6       1.00      1.00      1.00        30\n",
      "           7       1.00      1.00      1.00        30\n",
      "           8       0.93      0.84      0.88        31\n",
      "           9       0.94      0.91      0.92        32\n",
      "\n",
      "    accuracy                           0.95       296\n",
      "   macro avg       0.95      0.96      0.95       296\n",
      "weighted avg       0.96      0.95      0.95       296\n",
      "\n"
     ]
    }
   ],
   "source": [
    "from sklearn.metrics import classification_report\n",
    "print(classification_report(predictions, targets[1501:]))"
   ]
  },
  {
   "cell_type": "markdown",
   "id": "fd3ab327",
   "metadata": {},
   "source": [
    "### 2.2.3. Bài tập thực hành 1\n"
   ]
  },
  {
   "cell_type": "markdown",
   "id": "de83985b",
   "metadata": {},
   "source": [
    "Xây dựng mô hình từ giải thuật SVM trên dữ liệu bệnh tiểu đường. Dữ liệu lấy từ\n",
    "https://www.kaggle.com/code/tumpanjawat/diabetes-eda-random-forest-hp"
   ]
  },
  {
   "cell_type": "markdown",
   "id": "d7e2af2b",
   "metadata": {},
   "source": [
    "Import thư viện"
   ]
  },
  {
   "cell_type": "code",
   "execution_count": 13,
   "id": "a4595ca7",
   "metadata": {},
   "outputs": [],
   "source": [
    "import numpy as np \n",
    "import pandas as pd \n",
    "import matplotlib.pyplot as plt\n",
    "import seaborn as sns # Để vẽ confusion matrix\n",
    "\n",
    "from sklearn.model_selection import train_test_split, GridSearchCV\n",
    "from sklearn.preprocessing import StandardScaler # <<< QUAN TRỌNG CHO SVM\n",
    "from sklearn.svm import SVC # Support Vector Classifier\n",
    "from sklearn.metrics import accuracy_score, classification_report, confusion_matrix, roc_auc_score\n",
    "\n",
    "#Next line helps with rendering plots\n",
    "%matplotlib inline\n",
    "import matplotlib as mpl #add'l plotting functionality\n",
    "mpl.rcParams['figure.dpi'] = 400 #high res figures"
   ]
  },
  {
   "cell_type": "markdown",
   "id": "2ab856f9",
   "metadata": {},
   "source": [
    "#### 1. Thông tin về tệp dữ liệu\n"
   ]
  },
  {
   "cell_type": "code",
   "execution_count": 14,
   "id": "57dd4ee2",
   "metadata": {},
   "outputs": [
    {
     "name": "stdout",
     "output_type": "stream",
     "text": [
      "5 Dòng đầu tiên (head)\n"
     ]
    },
    {
     "data": {
      "text/html": [
       "<div>\n",
       "<style scoped>\n",
       "    .dataframe tbody tr th:only-of-type {\n",
       "        vertical-align: middle;\n",
       "    }\n",
       "\n",
       "    .dataframe tbody tr th {\n",
       "        vertical-align: top;\n",
       "    }\n",
       "\n",
       "    .dataframe thead th {\n",
       "        text-align: right;\n",
       "    }\n",
       "</style>\n",
       "<table border=\"1\" class=\"dataframe\">\n",
       "  <thead>\n",
       "    <tr style=\"text-align: right;\">\n",
       "      <th></th>\n",
       "      <th>gender</th>\n",
       "      <th>age</th>\n",
       "      <th>hypertension</th>\n",
       "      <th>heart_disease</th>\n",
       "      <th>smoking_history</th>\n",
       "      <th>bmi</th>\n",
       "      <th>HbA1c_level</th>\n",
       "      <th>blood_glucose_level</th>\n",
       "      <th>diabetes</th>\n",
       "    </tr>\n",
       "  </thead>\n",
       "  <tbody>\n",
       "    <tr>\n",
       "      <th>0</th>\n",
       "      <td>Female</td>\n",
       "      <td>80.0</td>\n",
       "      <td>0</td>\n",
       "      <td>1</td>\n",
       "      <td>never</td>\n",
       "      <td>25.19</td>\n",
       "      <td>6.6</td>\n",
       "      <td>140</td>\n",
       "      <td>0</td>\n",
       "    </tr>\n",
       "    <tr>\n",
       "      <th>1</th>\n",
       "      <td>Female</td>\n",
       "      <td>54.0</td>\n",
       "      <td>0</td>\n",
       "      <td>0</td>\n",
       "      <td>No Info</td>\n",
       "      <td>27.32</td>\n",
       "      <td>6.6</td>\n",
       "      <td>80</td>\n",
       "      <td>0</td>\n",
       "    </tr>\n",
       "    <tr>\n",
       "      <th>2</th>\n",
       "      <td>Male</td>\n",
       "      <td>28.0</td>\n",
       "      <td>0</td>\n",
       "      <td>0</td>\n",
       "      <td>never</td>\n",
       "      <td>27.32</td>\n",
       "      <td>5.7</td>\n",
       "      <td>158</td>\n",
       "      <td>0</td>\n",
       "    </tr>\n",
       "    <tr>\n",
       "      <th>3</th>\n",
       "      <td>Female</td>\n",
       "      <td>36.0</td>\n",
       "      <td>0</td>\n",
       "      <td>0</td>\n",
       "      <td>current</td>\n",
       "      <td>23.45</td>\n",
       "      <td>5.0</td>\n",
       "      <td>155</td>\n",
       "      <td>0</td>\n",
       "    </tr>\n",
       "    <tr>\n",
       "      <th>4</th>\n",
       "      <td>Male</td>\n",
       "      <td>76.0</td>\n",
       "      <td>1</td>\n",
       "      <td>1</td>\n",
       "      <td>current</td>\n",
       "      <td>20.14</td>\n",
       "      <td>4.8</td>\n",
       "      <td>155</td>\n",
       "      <td>0</td>\n",
       "    </tr>\n",
       "  </tbody>\n",
       "</table>\n",
       "</div>"
      ],
      "text/plain": [
       "   gender   age  hypertension  heart_disease smoking_history    bmi  \\\n",
       "0  Female  80.0             0              1           never  25.19   \n",
       "1  Female  54.0             0              0         No Info  27.32   \n",
       "2    Male  28.0             0              0           never  27.32   \n",
       "3  Female  36.0             0              0         current  23.45   \n",
       "4    Male  76.0             1              1         current  20.14   \n",
       "\n",
       "   HbA1c_level  blood_glucose_level  diabetes  \n",
       "0          6.6                  140         0  \n",
       "1          6.6                   80         0  \n",
       "2          5.7                  158         0  \n",
       "3          5.0                  155         0  \n",
       "4          4.8                  155         0  "
      ]
     },
     "metadata": {},
     "output_type": "display_data"
    },
    {
     "name": "stdout",
     "output_type": "stream",
     "text": [
      "5 Dòng cuối cùng (tail)\n"
     ]
    },
    {
     "data": {
      "text/html": [
       "<div>\n",
       "<style scoped>\n",
       "    .dataframe tbody tr th:only-of-type {\n",
       "        vertical-align: middle;\n",
       "    }\n",
       "\n",
       "    .dataframe tbody tr th {\n",
       "        vertical-align: top;\n",
       "    }\n",
       "\n",
       "    .dataframe thead th {\n",
       "        text-align: right;\n",
       "    }\n",
       "</style>\n",
       "<table border=\"1\" class=\"dataframe\">\n",
       "  <thead>\n",
       "    <tr style=\"text-align: right;\">\n",
       "      <th></th>\n",
       "      <th>gender</th>\n",
       "      <th>age</th>\n",
       "      <th>hypertension</th>\n",
       "      <th>heart_disease</th>\n",
       "      <th>smoking_history</th>\n",
       "      <th>bmi</th>\n",
       "      <th>HbA1c_level</th>\n",
       "      <th>blood_glucose_level</th>\n",
       "      <th>diabetes</th>\n",
       "    </tr>\n",
       "  </thead>\n",
       "  <tbody>\n",
       "    <tr>\n",
       "      <th>99995</th>\n",
       "      <td>Female</td>\n",
       "      <td>80.0</td>\n",
       "      <td>0</td>\n",
       "      <td>0</td>\n",
       "      <td>No Info</td>\n",
       "      <td>27.32</td>\n",
       "      <td>6.2</td>\n",
       "      <td>90</td>\n",
       "      <td>0</td>\n",
       "    </tr>\n",
       "    <tr>\n",
       "      <th>99996</th>\n",
       "      <td>Female</td>\n",
       "      <td>2.0</td>\n",
       "      <td>0</td>\n",
       "      <td>0</td>\n",
       "      <td>No Info</td>\n",
       "      <td>17.37</td>\n",
       "      <td>6.5</td>\n",
       "      <td>100</td>\n",
       "      <td>0</td>\n",
       "    </tr>\n",
       "    <tr>\n",
       "      <th>99997</th>\n",
       "      <td>Male</td>\n",
       "      <td>66.0</td>\n",
       "      <td>0</td>\n",
       "      <td>0</td>\n",
       "      <td>former</td>\n",
       "      <td>27.83</td>\n",
       "      <td>5.7</td>\n",
       "      <td>155</td>\n",
       "      <td>0</td>\n",
       "    </tr>\n",
       "    <tr>\n",
       "      <th>99998</th>\n",
       "      <td>Female</td>\n",
       "      <td>24.0</td>\n",
       "      <td>0</td>\n",
       "      <td>0</td>\n",
       "      <td>never</td>\n",
       "      <td>35.42</td>\n",
       "      <td>4.0</td>\n",
       "      <td>100</td>\n",
       "      <td>0</td>\n",
       "    </tr>\n",
       "    <tr>\n",
       "      <th>99999</th>\n",
       "      <td>Female</td>\n",
       "      <td>57.0</td>\n",
       "      <td>0</td>\n",
       "      <td>0</td>\n",
       "      <td>current</td>\n",
       "      <td>22.43</td>\n",
       "      <td>6.6</td>\n",
       "      <td>90</td>\n",
       "      <td>0</td>\n",
       "    </tr>\n",
       "  </tbody>\n",
       "</table>\n",
       "</div>"
      ],
      "text/plain": [
       "       gender   age  hypertension  heart_disease smoking_history    bmi  \\\n",
       "99995  Female  80.0             0              0         No Info  27.32   \n",
       "99996  Female   2.0             0              0         No Info  17.37   \n",
       "99997    Male  66.0             0              0          former  27.83   \n",
       "99998  Female  24.0             0              0           never  35.42   \n",
       "99999  Female  57.0             0              0         current  22.43   \n",
       "\n",
       "       HbA1c_level  blood_glucose_level  diabetes  \n",
       "99995          6.2                   90         0  \n",
       "99996          6.5                  100         0  \n",
       "99997          5.7                  155         0  \n",
       "99998          4.0                  100         0  \n",
       "99999          6.6                   90         0  "
      ]
     },
     "metadata": {},
     "output_type": "display_data"
    },
    {
     "name": "stdout",
     "output_type": "stream",
     "text": [
      "\n",
      "Thông tin dữ liệu (info)\n",
      "<class 'pandas.core.frame.DataFrame'>\n",
      "RangeIndex: 100000 entries, 0 to 99999\n",
      "Data columns (total 9 columns):\n",
      " #   Column               Non-Null Count   Dtype  \n",
      "---  ------               --------------   -----  \n",
      " 0   gender               100000 non-null  object \n",
      " 1   age                  100000 non-null  float64\n",
      " 2   hypertension         100000 non-null  int64  \n",
      " 3   heart_disease        100000 non-null  int64  \n",
      " 4   smoking_history      100000 non-null  object \n",
      " 5   bmi                  100000 non-null  float64\n",
      " 6   HbA1c_level          100000 non-null  float64\n",
      " 7   blood_glucose_level  100000 non-null  int64  \n",
      " 8   diabetes             100000 non-null  int64  \n",
      "dtypes: float64(3), int64(4), object(2)\n",
      "memory usage: 6.9+ MB\n"
     ]
    },
    {
     "data": {
      "text/plain": [
       "None"
      ]
     },
     "metadata": {},
     "output_type": "display_data"
    }
   ],
   "source": [
    "df = pd.read_csv('Dataset/diabetes_prediction_dataset.csv')\n",
    "# Hiển thị 5 dòng đầu tiên \n",
    "print(\"5 Dòng đầu tiên (head)\")\n",
    "display(df.head())\n",
    "\n",
    "# Hiển thị 5 dòng cuối cùng \n",
    "print(\"5 Dòng cuối cùng (tail)\")\n",
    "display(df.tail())\n",
    "\n",
    "# Hiển thị thông tin tổng quan\n",
    "print(\"\\nThông tin dữ liệu (info)\")\n",
    "display(df.info())"
   ]
  },
  {
   "cell_type": "markdown",
   "id": "b4418a36",
   "metadata": {},
   "source": [
    "**Giới thiệu cột dữ liệu**\n",
    "\n",
    "| Cột | Kiểu dữ liệu  | Ý nghĩa |\n",
    "|-----|---------------|---------|\n",
    "| `gender` | `object ` | Giới tính của bệnh nhân (Male/Female) |\n",
    "| `age` | `float` | Tuổi của bệnh nhân (năm) |\n",
    "| `hypertension` | `int`  | Có bị cao huyết áp hay không (1 = Có, 0 = Không) |\n",
    "| `heart_disease` | `int`  | Có bệnh tim mạch hay không (1 = Có, 0 = Không) |\n",
    "| `smoking_history` | `object` | Tiền sử hút thuốc (ví dụ: never, current, former, No Info…) |\n",
    "| `bmi` | `float` | Chỉ số khối cơ thể BMI (Body Mass Index) |\n",
    "| `HbA1c_level` | `float` | Mức HbA1c (%) – chỉ số đường huyết trung bình 2–3 tháng |\n",
    "| `blood_glucose_level` | `int` | Mức đường huyết hiện tại (mg/dL hoặc mmol/L tùy dataset) |\n",
    "| `diabetes` | `int` | Nhãn phân loại: bệnh nhân có tiểu đường hay không 1/0  |\n"
   ]
  },
  {
   "cell_type": "markdown",
   "id": "fcdae773",
   "metadata": {},
   "source": [
    "**Mô tả tệp dữ liệu**\n",
    "\n",
    "| Giới tính | Tuổi | Cao huyết áp | Bệnh tim mạch | Tiền sử hút thuốc | BMI  | HbA1c (%) | Đường huyết | Tiểu đường |\n",
    "|-----------|------|--------------|---------------|------------------|------|-----------|-------------|------------|\n",
    "| Nữ        | 80   | Không (0)    | Có (1)        | Chưa từng        | 25.19 | 6.6       | 140         | Không (0) |\n",
    "| Nữ        | 54   | Không (0)    | Không (0)     | Không có thông tin | 27.32 | 6.6     | 80          | Không (0) |\n",
    "| Nam       | 28   | Không (0)    | Không (0)     | Chưa từng        | 27.32 | 5.7       | 158         | Không (0) |\n",
    "| Nữ        | 36   | Không (0)    | Không (0)     | Hiện tại         | 23.45 | 5.0       | 155         | Không (0) |\n",
    "| Nam       | 76   | Có (1)       | Có (1)        | Hiện tại         | 20.14 | 4.8       | 155         | Không (0) |\n"
   ]
  },
  {
   "cell_type": "markdown",
   "id": "e5d23811",
   "metadata": {},
   "source": [
    "#### 2. Tiền xử lý dữ liệu"
   ]
  },
  {
   "cell_type": "code",
   "execution_count": 15,
   "id": "2a28a0a4",
   "metadata": {},
   "outputs": [
    {
     "name": "stdout",
     "output_type": "stream",
     "text": [
      "Dữ liệu sau khi đã tiền xử lý\n"
     ]
    },
    {
     "data": {
      "text/html": [
       "<div>\n",
       "<style scoped>\n",
       "    .dataframe tbody tr th:only-of-type {\n",
       "        vertical-align: middle;\n",
       "    }\n",
       "\n",
       "    .dataframe tbody tr th {\n",
       "        vertical-align: top;\n",
       "    }\n",
       "\n",
       "    .dataframe thead th {\n",
       "        text-align: right;\n",
       "    }\n",
       "</style>\n",
       "<table border=\"1\" class=\"dataframe\">\n",
       "  <thead>\n",
       "    <tr style=\"text-align: right;\">\n",
       "      <th></th>\n",
       "      <th>age</th>\n",
       "      <th>hypertension</th>\n",
       "      <th>heart_disease</th>\n",
       "      <th>bmi</th>\n",
       "      <th>HbA1c_level</th>\n",
       "      <th>blood_glucose_level</th>\n",
       "      <th>diabetes</th>\n",
       "      <th>gender_Male</th>\n",
       "      <th>smoking_history_current</th>\n",
       "      <th>smoking_history_ever</th>\n",
       "      <th>smoking_history_former</th>\n",
       "      <th>smoking_history_never</th>\n",
       "      <th>smoking_history_not current</th>\n",
       "    </tr>\n",
       "  </thead>\n",
       "  <tbody>\n",
       "    <tr>\n",
       "      <th>0</th>\n",
       "      <td>80.0</td>\n",
       "      <td>0</td>\n",
       "      <td>1</td>\n",
       "      <td>25.19</td>\n",
       "      <td>6.6</td>\n",
       "      <td>140</td>\n",
       "      <td>0</td>\n",
       "      <td>False</td>\n",
       "      <td>False</td>\n",
       "      <td>False</td>\n",
       "      <td>False</td>\n",
       "      <td>True</td>\n",
       "      <td>False</td>\n",
       "    </tr>\n",
       "    <tr>\n",
       "      <th>1</th>\n",
       "      <td>54.0</td>\n",
       "      <td>0</td>\n",
       "      <td>0</td>\n",
       "      <td>27.32</td>\n",
       "      <td>6.6</td>\n",
       "      <td>80</td>\n",
       "      <td>0</td>\n",
       "      <td>False</td>\n",
       "      <td>False</td>\n",
       "      <td>False</td>\n",
       "      <td>False</td>\n",
       "      <td>False</td>\n",
       "      <td>False</td>\n",
       "    </tr>\n",
       "    <tr>\n",
       "      <th>2</th>\n",
       "      <td>28.0</td>\n",
       "      <td>0</td>\n",
       "      <td>0</td>\n",
       "      <td>27.32</td>\n",
       "      <td>5.7</td>\n",
       "      <td>158</td>\n",
       "      <td>0</td>\n",
       "      <td>True</td>\n",
       "      <td>False</td>\n",
       "      <td>False</td>\n",
       "      <td>False</td>\n",
       "      <td>True</td>\n",
       "      <td>False</td>\n",
       "    </tr>\n",
       "    <tr>\n",
       "      <th>3</th>\n",
       "      <td>36.0</td>\n",
       "      <td>0</td>\n",
       "      <td>0</td>\n",
       "      <td>23.45</td>\n",
       "      <td>5.0</td>\n",
       "      <td>155</td>\n",
       "      <td>0</td>\n",
       "      <td>False</td>\n",
       "      <td>True</td>\n",
       "      <td>False</td>\n",
       "      <td>False</td>\n",
       "      <td>False</td>\n",
       "      <td>False</td>\n",
       "    </tr>\n",
       "    <tr>\n",
       "      <th>4</th>\n",
       "      <td>76.0</td>\n",
       "      <td>1</td>\n",
       "      <td>1</td>\n",
       "      <td>20.14</td>\n",
       "      <td>4.8</td>\n",
       "      <td>155</td>\n",
       "      <td>0</td>\n",
       "      <td>True</td>\n",
       "      <td>True</td>\n",
       "      <td>False</td>\n",
       "      <td>False</td>\n",
       "      <td>False</td>\n",
       "      <td>False</td>\n",
       "    </tr>\n",
       "  </tbody>\n",
       "</table>\n",
       "</div>"
      ],
      "text/plain": [
       "    age  hypertension  heart_disease    bmi  HbA1c_level  blood_glucose_level  \\\n",
       "0  80.0             0              1  25.19          6.6                  140   \n",
       "1  54.0             0              0  27.32          6.6                   80   \n",
       "2  28.0             0              0  27.32          5.7                  158   \n",
       "3  36.0             0              0  23.45          5.0                  155   \n",
       "4  76.0             1              1  20.14          4.8                  155   \n",
       "\n",
       "   diabetes  gender_Male  smoking_history_current  smoking_history_ever  \\\n",
       "0         0        False                    False                 False   \n",
       "1         0        False                    False                 False   \n",
       "2         0         True                    False                 False   \n",
       "3         0        False                     True                 False   \n",
       "4         0         True                     True                 False   \n",
       "\n",
       "   smoking_history_former  smoking_history_never  smoking_history_not current  \n",
       "0                   False                   True                        False  \n",
       "1                   False                  False                        False  \n",
       "2                   False                   True                        False  \n",
       "3                   False                  False                        False  \n",
       "4                   False                  False                        False  "
      ]
     },
     "metadata": {},
     "output_type": "display_data"
    }
   ],
   "source": [
    "df = pd.read_csv('Dataset/diabetes_prediction_dataset.csv')\n",
    "\n",
    "# Loại bỏ 18 giá trị 'Other' để đơn giản hóa\n",
    "df = df[df['gender'] != 'Other']\n",
    "\n",
    "#Chuyển đổi dữ liệu (Categorical -> Numerical) ---\n",
    "# Dùng One-Hot Encoding cho các cột chữ\n",
    "df = pd.get_dummies(df, columns=['gender', 'smoking_history'], drop_first=True)\n",
    "\n",
    "print(\"Dữ liệu sau khi đã tiền xử lý\")\n",
    "display(df.head())"
   ]
  },
  {
   "cell_type": "markdown",
   "id": "e1118aa2",
   "metadata": {},
   "source": [
    "Lựa chọn đặc trưng (Features)"
   ]
  },
  {
   "cell_type": "code",
   "execution_count": 16,
   "id": "3a75045e",
   "metadata": {},
   "outputs": [
    {
     "name": "stdout",
     "output_type": "stream",
     "text": [
      "Trích xuất đặc trưng: ['age', 'hypertension', 'heart_disease', 'bmi', 'HbA1c_level', 'blood_glucose_level', 'gender_Male', 'smoking_history_current', 'smoking_history_ever', 'smoking_history_former', 'smoking_history_never', 'smoking_history_not current']\n"
     ]
    }
   ],
   "source": [
    "# Cột mục tiêu\n",
    "target = 'diabetes'\n",
    "\n",
    "# Lấy tất cả các cột khác làm đặc trưng (features)\n",
    "features_list = df.columns.drop(target).tolist()\n",
    "\n",
    "print(f\"Trích xuất đặc trưng: {features_list}\")"
   ]
  },
  {
   "cell_type": "markdown",
   "id": "5c9d3c23",
   "metadata": {},
   "source": [
    "Chia dữ liệu (Train/Test)"
   ]
  },
  {
   "cell_type": "markdown",
   "id": "ea67e6dc",
   "metadata": {},
   "source": [
    "Tách dữ liệu thành 2 tập: huấn luyện (80%) và kiểm tra (20%)."
   ]
  },
  {
   "cell_type": "code",
   "execution_count": 17,
   "id": "46420ba1",
   "metadata": {},
   "outputs": [
    {
     "name": "stdout",
     "output_type": "stream",
     "text": [
      "Kích thước tập Train: (79985, 12)\n",
      "Kích thước tập Test: (19997, 12)\n"
     ]
    }
   ],
   "source": [
    "# Lấy giá trị X (đặc trưng) và y (mục tiêu)\n",
    "X = df[features_list].values\n",
    "y = df[target].values\n",
    "\n",
    "# Sử dụng train_test_split\n",
    "X_train, X_test, y_train, y_test = \\\n",
    "    train_test_split(X, y, test_size=0.2, random_state=24)\n",
    "\n",
    "print(f\"Kích thước tập Train: {X_train.shape}\")\n",
    "print(f\"Kích thước tập Test: {X_test.shape}\")"
   ]
  },
  {
   "cell_type": "markdown",
   "id": "d713c1cb",
   "metadata": {},
   "source": [
    "Chuẩn hoá dữ liệu"
   ]
  },
  {
   "cell_type": "code",
   "execution_count": 18,
   "id": "8bba878c",
   "metadata": {},
   "outputs": [
    {
     "name": "stdout",
     "output_type": "stream",
     "text": [
      "\n",
      "Đã hoàn tất chuẩn hóa dữ liệu.\n",
      "Giá trị trung bình của X_train_scaled (gần bằng 0): 0.00\n",
      "Độ lệch chuẩn của X_train_scaled (gần bằng 1): 1.00\n"
     ]
    }
   ],
   "source": [
    "# 1. Khởi tạo Scaler\n",
    "scaler = StandardScaler()\n",
    "\n",
    "# 2. Fit scaler CHỈ trên X_train (học trung bình và độ lệch chuẩn của tập train)\n",
    "X_train_scaled = scaler.fit_transform(X_train)\n",
    "\n",
    "# 3. Transform X_test (áp dụng các thông số đã học từ X_train)\n",
    "X_test_scaled = scaler.transform(X_test)\n",
    "\n",
    "print(\"\\nĐã hoàn tất chuẩn hóa dữ liệu.\")\n",
    "print(f\"Giá trị trung bình của X_train_scaled (gần bằng 0): {X_train_scaled.mean():.2f}\")\n",
    "print(f\"Độ lệch chuẩn của X_train_scaled (gần bằng 1): {X_train_scaled.std():.2f}\")"
   ]
  },
  {
   "cell_type": "markdown",
   "id": "83dd1436",
   "metadata": {},
   "source": [
    "#### 3. Xây dựng mô hình SVM"
   ]
  },
  {
   "cell_type": "markdown",
   "id": "5e6776d5",
   "metadata": {},
   "source": [
    "**Mô hình SVM cơ bản**"
   ]
  },
  {
   "cell_type": "code",
   "execution_count": 19,
   "id": "4ed33022",
   "metadata": {},
   "outputs": [
    {
     "name": "stdout",
     "output_type": "stream",
     "text": [
      "Đang huấn luyện mô hình SVM cơ bản...\n",
      "Hoàn thành!\n",
      "Độ chính xác trên tập Train: 96.35%\n",
      "Độ chính xác trên tập Test: 96.42%\n"
     ]
    }
   ],
   "source": [
    "# Tạo mô hình SVM với dữ liệu đã chuẩn bị\n",
    "svm_model_base = SVC(kernel='rbf', random_state=42)\n",
    "\n",
    "# Huấn luyện mô hình với dữ liệu ĐÃ CHUẨN HÓA\n",
    "print(\"Đang huấn luyện mô hình SVM cơ bản...\")\n",
    "svm_model_base.fit(X_train_scaled, y_train)\n",
    "print(\"Hoàn thành!\")\n",
    "\n",
    "# Đánh giá độ chính xác của mô hình\n",
    "# .score() trả về 'accuracy'\n",
    "train_acc = svm_model_base.score(X_train_scaled, y_train)\n",
    "test_acc = svm_model_base.score(X_test_scaled, y_test)\n",
    "\n",
    "print(f\"Độ chính xác trên tập Train: {train_acc * 100:.2f}%\")\n",
    "print(f\"Độ chính xác trên tập Test: {test_acc * 100:.2f}%\")"
   ]
  },
  {
   "cell_type": "markdown",
   "id": "f64800fe",
   "metadata": {},
   "source": [
    "**Tối ưu hoá tham số SVM  với GridSearchCV**"
   ]
  },
  {
   "cell_type": "markdown",
   "id": "6bf138b1",
   "metadata": {},
   "source": [
    "Lưới Tham số (Parameter Grid) "
   ]
  },
  {
   "cell_type": "markdown",
   "id": "e1383f8b",
   "metadata": {},
   "source": [
    "Chúng ta sẽ thử 2 kernel chính: 'linear' (không cần 'gamma') và 'rbf' (cần 'gamma'). Chúng ta sẽ thử các giá trị cho 'C' (tham số phạt - từ lý thuyết Lề mềm)."
   ]
  },
  {
   "cell_type": "code",
   "execution_count": 20,
   "id": "c8098c99",
   "metadata": {},
   "outputs": [
    {
     "name": "stdout",
     "output_type": "stream",
     "text": [
      "Bắt đầu tìm tham số tối ưu cho SVM (GridSearchCV)\n"
     ]
    }
   ],
   "source": [
    "# GridSearchCV sẽ thử tất cả các tổ hợp này\n",
    "\n",
    "param_grid = [\n",
    "    # Tùy chọn 1: Thử kernel 'linear' với các giá trị C khác nhau\n",
    "    {\n",
    "        'kernel': ['linear'], \n",
    "        'C': [0.1, 1, 10] \n",
    "        # C nhỏ: lề rộng, C lớn: lề hẹp\n",
    "    },\n",
    "    \n",
    "    # Tùy chọn 2: Thử kernel 'rbf' với các giá trị C và gamma khác nhau\n",
    "    {\n",
    "        'kernel': ['rbf'], \n",
    "        'C': [0.1, 1, 10], \n",
    "        'gamma': ['scale', 0.001] \n",
    "        # 'scale' là giá trị mặc định tốt, 0.001 là giá trị như trong ví dụ MNIST\n",
    "    }\n",
    "]\n",
    "\n",
    "# Khởi tạo mô hình SVM cơ sở\n",
    "svm_base = SVC(random_state=42)\n",
    "\n",
    "# Khởi tạo GridSearchCV\n",
    "# cv=3: 3-fold cross-validation (dùng 3-fold thay vì 4 cho nhanh hơn vì SVM chậm)\n",
    "# scoring='roc_auc': Dùng ROC AUC để đánh giá, tốt hơn 'accuracy' cho dữ liệu mất cân bằng.\n",
    "# verbose=2: In ra tiến trình\n",
    "# n_jobs=-1: Dùng tất cả các nhân CPU\n",
    "grid_svm = GridSearchCV(svm_base, \n",
    "                        param_grid, \n",
    "                        cv=3, \n",
    "                        scoring='roc_auc', \n",
    "                        verbose=2, \n",
    "                        n_jobs=-1)\n",
    "\n",
    "print(\"Bắt đầu tìm tham số tối ưu cho SVM (GridSearchCV)\")"
   ]
  },
  {
   "cell_type": "markdown",
   "id": "876854c5",
   "metadata": {},
   "source": [
    "**Huấn luyện mô hình GridSearchCV**"
   ]
  },
  {
   "cell_type": "code",
   "execution_count": 21,
   "id": "0f309b19",
   "metadata": {},
   "outputs": [
    {
     "name": "stdout",
     "output_type": "stream",
     "text": [
      "Fitting 3 folds for each of 9 candidates, totalling 27 fits\n",
      "Hoàn thành!\n",
      "Các tham số  tìm được: {'C': 0.1, 'kernel': 'linear'}\n",
      "Điểm ROC AUC  (trên tập Val): 0.9600\n"
     ]
    }
   ],
   "source": [
    "# Huấn luyện trên dữ liệu đã chuẩn hóa\n",
    "grid_svm.fit(X_train_scaled, y_train)\n",
    "print(\"Hoàn thành!\")\n",
    "\n",
    "# In ra các tham số \n",
    "print(f\"Các tham số  tìm được: {grid_svm.best_params_}\")\n",
    "print(f\"Điểm ROC AUC  (trên tập Val): {grid_svm.best_score_:.4f}\")"
   ]
  },
  {
   "cell_type": "markdown",
   "id": "593e053a",
   "metadata": {},
   "source": [
    "#### 4. Đánh giá mô hình"
   ]
  },
  {
   "cell_type": "markdown",
   "id": "8f129431",
   "metadata": {},
   "source": [
    "**Đánh giá mô hình SVM tốt nhất**"
   ]
  },
  {
   "cell_type": "markdown",
   "id": "508b6586",
   "metadata": {},
   "source": [
    "Lấy mô hình tôt nhất để dự đoán"
   ]
  },
  {
   "cell_type": "code",
   "execution_count": 22,
   "id": "41798a92",
   "metadata": {},
   "outputs": [],
   "source": [
    "# Lấy ra mô hình tốt nhất\n",
    "best_svm_model = grid_svm.best_estimator_\n",
    "\n",
    "# Dự đoán trên tập Test (đã chuẩn hóa)\n",
    "y_pred = best_svm_model.predict(X_test_scaled)"
   ]
  },
  {
   "cell_type": "markdown",
   "id": "64dd340d",
   "metadata": {},
   "source": [
    "**Đánh giá hiệu quả với Classification Report**"
   ]
  },
  {
   "cell_type": "code",
   "execution_count": 23,
   "id": "d0c0b3ca",
   "metadata": {},
   "outputs": [
    {
     "name": "stdout",
     "output_type": "stream",
     "text": [
      "\n",
      "--- Classification Report (Báo cáo Phân loại) ---\n",
      "                  precision    recall  f1-score   support\n",
      "\n",
      "Not Diabetic (0)       0.96      1.00      0.98     18328\n",
      "    Diabetic (1)       0.92      0.59      0.72      1669\n",
      "\n",
      "        accuracy                           0.96     19997\n",
      "       macro avg       0.94      0.79      0.85     19997\n",
      "    weighted avg       0.96      0.96      0.96     19997\n",
      "\n"
     ]
    }
   ],
   "source": [
    "# In kết quả dạng văn bản (như MNIST)\n",
    "print(\"\\n--- Classification Report (Báo cáo Phân loại) ---\")\n",
    "# So sánh y_test (thực tế) và y_pred (dự đoán)\n",
    "print(classification_report(y_test, y_pred, target_names=['Not Diabetic (0)', 'Diabetic (1)']))"
   ]
  },
  {
   "cell_type": "markdown",
   "id": "0e8d5b3e",
   "metadata": {},
   "source": [
    "**Ma trận nhần lẫn**"
   ]
  },
  {
   "cell_type": "code",
   "execution_count": 40,
   "id": "62991e52",
   "metadata": {},
   "outputs": [
    {
     "data": {
      "image/png": "[encoded data removed]",
      "text/plain": [
       "<Figure size 2400x1600 with 2 Axes>"
      ]
     },
     "metadata": {},
     "output_type": "display_data"
    }
   ],
   "source": [
    "# Tạo Confusion Matrix (như MNIST)\n",
    "cm = confusion_matrix(y_test, y_pred)\n",
    "\n",
    "# Vẽ ma trận dưới dạng heatmap\n",
    "plt.figure(figsize = (6,4))\n",
    "sns.heatmap(cm, \n",
    "            annot=True, # Hiển thị số lượng\n",
    "            fmt='d',    # Định dạng số nguyên\n",
    "            cmap=\"viridis\", # Bảng màu\n",
    "            xticklabels=['Dự đoán: 0', 'Dự đoán: 1'],\n",
    "            yticklabels=['Thực tế: 0', 'Thực tế: 1'])\n",
    "plt.title('Ma trận nhầm lẫn (Confusion Matrix)')\n",
    "plt.show()"
   ]
  },
  {
   "cell_type": "markdown",
   "id": "eeeca8b4",
   "metadata": {},
   "source": [
    "**Phân tích:**\n",
    "\n",
    "1. Phân tích Lớp Thiểu số (Lớp 1: \"Diabetic - Có Bệnh Tiểu Đường\")\n",
    "\n",
    "   - True Positives (TP) = 986: Trong tập test có 1,669 ca “Có bệnh tiểu đường”, mô hình đã dự đoán đúng 986 ca.\n",
    "\n",
    "    - False Negatives (FN) = 683: Mô hình bỏ sót 683 ca thật sự bị tiểu đường, tức là đã dự đoán nhầm chúng thành “Không bệnh”.\n",
    "\n",
    "    - Recall (Độ phủ) Lớp 1: $986 / (986 + 683) = 59\\%$. Mô hình chỉ phát hiện được 59% số ca bệnh thực sự, cho thấy độ nhạy còn thấp.\n",
    "\n",
    "2. Phân tích Lớp Đa số (Lớp 0: \"Not Diabetic - Không Bị Tiểu Đường\")\n",
    "\n",
    "    - True Negatives (TN) = 18,241: Trong tập test có 18,328 ca “Không bệnh”, mô hình đã dự đoán đúng 18,241 ca.\n",
    "\n",
    "    - False Positives (FP) = 87: Mô hình báo nhầm 87 người khỏe mạnh là “Có bệnh”, nhưng tỷ lệ này rất thấp.\n",
    "\n",
    "    - Recall (Độ phủ) Lớp 0: $18,241 / (18,241 + 87) = 99.5\\% \\approx 100\\%$. Mô hình gần như hoàn hảo trong việc nhận diện người không bị tiểu đường."
   ]
  },
  {
   "cell_type": "markdown",
   "id": "49e1fff2",
   "metadata": {},
   "source": [
    "### 2.2.4. Bài tập thực hành 2"
   ]
  },
  {
   "cell_type": "markdown",
   "id": "3c149209",
   "metadata": {},
   "source": [
    "Xây dựng mô hình từ giải thuật SVM trên dữ liệu các con thú trong rừng. Dữ liệu lấy từ\n",
    "https://www.kaggle.com/code/kareemellithy/animal-condition-predict-svm-knn"
   ]
  },
  {
   "cell_type": "markdown",
   "id": "c1db18d7",
   "metadata": {},
   "source": [
    "#### 1. Thông tin về dữ liệu\n"
   ]
  },
  {
   "cell_type": "code",
   "execution_count": 25,
   "id": "39dad8b4",
   "metadata": {},
   "outputs": [
    {
     "name": "stdout",
     "output_type": "stream",
     "text": [
      "5 Dòng đầu tiên (head)\n"
     ]
    },
    {
     "data": {
      "text/html": [
       "<div>\n",
       "<style scoped>\n",
       "    .dataframe tbody tr th:only-of-type {\n",
       "        vertical-align: middle;\n",
       "    }\n",
       "\n",
       "    .dataframe tbody tr th {\n",
       "        vertical-align: top;\n",
       "    }\n",
       "\n",
       "    .dataframe thead th {\n",
       "        text-align: right;\n",
       "    }\n",
       "</style>\n",
       "<table border=\"1\" class=\"dataframe\">\n",
       "  <thead>\n",
       "    <tr style=\"text-align: right;\">\n",
       "      <th></th>\n",
       "      <th>AnimalName</th>\n",
       "      <th>symptoms1</th>\n",
       "      <th>symptoms2</th>\n",
       "      <th>symptoms3</th>\n",
       "      <th>symptoms4</th>\n",
       "      <th>symptoms5</th>\n",
       "      <th>Dangerous</th>\n",
       "    </tr>\n",
       "  </thead>\n",
       "  <tbody>\n",
       "    <tr>\n",
       "      <th>0</th>\n",
       "      <td>Dog</td>\n",
       "      <td>Fever</td>\n",
       "      <td>Diarrhea</td>\n",
       "      <td>Vomiting</td>\n",
       "      <td>Weight loss</td>\n",
       "      <td>Dehydration</td>\n",
       "      <td>Yes</td>\n",
       "    </tr>\n",
       "    <tr>\n",
       "      <th>1</th>\n",
       "      <td>Dog</td>\n",
       "      <td>Fever</td>\n",
       "      <td>Diarrhea</td>\n",
       "      <td>Coughing</td>\n",
       "      <td>Tiredness</td>\n",
       "      <td>Pains</td>\n",
       "      <td>Yes</td>\n",
       "    </tr>\n",
       "    <tr>\n",
       "      <th>2</th>\n",
       "      <td>Dog</td>\n",
       "      <td>Fever</td>\n",
       "      <td>Diarrhea</td>\n",
       "      <td>Coughing</td>\n",
       "      <td>Vomiting</td>\n",
       "      <td>Anorexia</td>\n",
       "      <td>Yes</td>\n",
       "    </tr>\n",
       "    <tr>\n",
       "      <th>3</th>\n",
       "      <td>Dog</td>\n",
       "      <td>Fever</td>\n",
       "      <td>Difficulty breathing</td>\n",
       "      <td>Coughing</td>\n",
       "      <td>Lethargy</td>\n",
       "      <td>Sneezing</td>\n",
       "      <td>Yes</td>\n",
       "    </tr>\n",
       "    <tr>\n",
       "      <th>4</th>\n",
       "      <td>Dog</td>\n",
       "      <td>Fever</td>\n",
       "      <td>Diarrhea</td>\n",
       "      <td>Coughing</td>\n",
       "      <td>Lethargy</td>\n",
       "      <td>Blue Eye</td>\n",
       "      <td>Yes</td>\n",
       "    </tr>\n",
       "  </tbody>\n",
       "</table>\n",
       "</div>"
      ],
      "text/plain": [
       "  AnimalName symptoms1             symptoms2 symptoms3    symptoms4  \\\n",
       "0        Dog     Fever              Diarrhea  Vomiting  Weight loss   \n",
       "1        Dog     Fever              Diarrhea  Coughing    Tiredness   \n",
       "2        Dog     Fever              Diarrhea  Coughing     Vomiting   \n",
       "3        Dog     Fever  Difficulty breathing  Coughing     Lethargy   \n",
       "4        Dog     Fever              Diarrhea  Coughing     Lethargy   \n",
       "\n",
       "     symptoms5 Dangerous  \n",
       "0  Dehydration       Yes  \n",
       "1        Pains       Yes  \n",
       "2     Anorexia       Yes  \n",
       "3     Sneezing       Yes  \n",
       "4     Blue Eye       Yes  "
      ]
     },
     "metadata": {},
     "output_type": "display_data"
    },
    {
     "name": "stdout",
     "output_type": "stream",
     "text": [
      "5 Dòng cuối cùng (tail)\n"
     ]
    },
    {
     "data": {
      "text/html": [
       "<div>\n",
       "<style scoped>\n",
       "    .dataframe tbody tr th:only-of-type {\n",
       "        vertical-align: middle;\n",
       "    }\n",
       "\n",
       "    .dataframe tbody tr th {\n",
       "        vertical-align: top;\n",
       "    }\n",
       "\n",
       "    .dataframe thead th {\n",
       "        text-align: right;\n",
       "    }\n",
       "</style>\n",
       "<table border=\"1\" class=\"dataframe\">\n",
       "  <thead>\n",
       "    <tr style=\"text-align: right;\">\n",
       "      <th></th>\n",
       "      <th>AnimalName</th>\n",
       "      <th>symptoms1</th>\n",
       "      <th>symptoms2</th>\n",
       "      <th>symptoms3</th>\n",
       "      <th>symptoms4</th>\n",
       "      <th>symptoms5</th>\n",
       "      <th>Dangerous</th>\n",
       "    </tr>\n",
       "  </thead>\n",
       "  <tbody>\n",
       "    <tr>\n",
       "      <th>866</th>\n",
       "      <td>Buffaloes</td>\n",
       "      <td>Fever</td>\n",
       "      <td>Difficulty breathing</td>\n",
       "      <td>Poor Appetite</td>\n",
       "      <td>Eye and Skin change</td>\n",
       "      <td>Unable to exercise</td>\n",
       "      <td>Yes</td>\n",
       "    </tr>\n",
       "    <tr>\n",
       "      <th>867</th>\n",
       "      <td>Buffaloes</td>\n",
       "      <td>Fever</td>\n",
       "      <td>Loss of  appetite</td>\n",
       "      <td>Lession on the skin</td>\n",
       "      <td>Lethargy</td>\n",
       "      <td>Joint Pain</td>\n",
       "      <td>Yes</td>\n",
       "    </tr>\n",
       "    <tr>\n",
       "      <th>868</th>\n",
       "      <td>Buffaloes</td>\n",
       "      <td>Lesions in the nasal cavity</td>\n",
       "      <td>Lesions on nose</td>\n",
       "      <td>Vomiting</td>\n",
       "      <td>Noisy Breathing</td>\n",
       "      <td>Lesions on nose</td>\n",
       "      <td>Yes</td>\n",
       "    </tr>\n",
       "    <tr>\n",
       "      <th>869</th>\n",
       "      <td>Buffaloes</td>\n",
       "      <td>Hair loss</td>\n",
       "      <td>Dandruff</td>\n",
       "      <td>Vomiting</td>\n",
       "      <td>Crusting of the skin</td>\n",
       "      <td>Ulcerated skin</td>\n",
       "      <td>Yes</td>\n",
       "    </tr>\n",
       "    <tr>\n",
       "      <th>870</th>\n",
       "      <td>Buffaloes</td>\n",
       "      <td>Greenish-yellow nasal discharge</td>\n",
       "      <td>Lack of pigmentation</td>\n",
       "      <td>Vomiting</td>\n",
       "      <td>Lethargy</td>\n",
       "      <td>Pain on face</td>\n",
       "      <td>Yes</td>\n",
       "    </tr>\n",
       "  </tbody>\n",
       "</table>\n",
       "</div>"
      ],
      "text/plain": [
       "    AnimalName                        symptoms1             symptoms2  \\\n",
       "866  Buffaloes                            Fever  Difficulty breathing   \n",
       "867  Buffaloes                            Fever     Loss of  appetite   \n",
       "868  Buffaloes      Lesions in the nasal cavity       Lesions on nose   \n",
       "869  Buffaloes                        Hair loss              Dandruff   \n",
       "870  Buffaloes  Greenish-yellow nasal discharge  Lack of pigmentation   \n",
       "\n",
       "               symptoms3             symptoms4           symptoms5 Dangerous  \n",
       "866        Poor Appetite   Eye and Skin change  Unable to exercise       Yes  \n",
       "867  Lession on the skin              Lethargy          Joint Pain       Yes  \n",
       "868             Vomiting       Noisy Breathing     Lesions on nose       Yes  \n",
       "869             Vomiting  Crusting of the skin      Ulcerated skin       Yes  \n",
       "870             Vomiting              Lethargy        Pain on face       Yes  "
      ]
     },
     "metadata": {},
     "output_type": "display_data"
    },
    {
     "name": "stdout",
     "output_type": "stream",
     "text": [
      "\n",
      "Thông tin dữ liệu (info)\n",
      "<class 'pandas.core.frame.DataFrame'>\n",
      "RangeIndex: 871 entries, 0 to 870\n",
      "Data columns (total 7 columns):\n",
      " #   Column      Non-Null Count  Dtype \n",
      "---  ------      --------------  ----- \n",
      " 0   AnimalName  871 non-null    object\n",
      " 1   symptoms1   871 non-null    object\n",
      " 2   symptoms2   871 non-null    object\n",
      " 3   symptoms3   871 non-null    object\n",
      " 4   symptoms4   871 non-null    object\n",
      " 5   symptoms5   871 non-null    object\n",
      " 6   Dangerous   869 non-null    object\n",
      "dtypes: object(7)\n",
      "memory usage: 47.8+ KB\n"
     ]
    },
    {
     "data": {
      "text/plain": [
       "None"
      ]
     },
     "metadata": {},
     "output_type": "display_data"
    }
   ],
   "source": [
    "df_raw = pd.read_csv('Dataset/data.csv') \n",
    "\n",
    "# Hiển thị 5 dòng đầu tiên \n",
    "print(\"5 Dòng đầu tiên (head)\")\n",
    "display(df_raw.head())\n",
    "\n",
    "# Hiển thị 5 dòng cuối cùng \n",
    "print(\"5 Dòng cuối cùng (tail)\")\n",
    "display(df_raw.tail())\n",
    "\n",
    "# Hiển thị thông tin tổng quan\n",
    "print(\"\\nThông tin dữ liệu (info)\")\n",
    "display(df_raw.info())"
   ]
  },
  {
   "cell_type": "markdown",
   "id": "403f62bd",
   "metadata": {},
   "source": [
    "**Nhận xét:**\n",
    "\n",
    "Tất cả 7 cột đều có kiểu ***object*** (chuỗi ký tự). \n",
    "\n",
    "Các thuật toán toán học như SVM không thể làm việc trực tiếp. \n",
    "\n",
    "Phải mã hóa (encode) toàn bộ dữ liệu này sang dạng số."
   ]
  },
  {
   "cell_type": "markdown",
   "id": "ea07cdc8",
   "metadata": {},
   "source": [
    "**Giới thiệu cột dữ liệu**\n",
    "| Cột | Kiểu dữ liệu | Ý nghĩa |\n",
    "|-----|--------------|---------|\n",
    "| `AnimalName` | `object` | Tên con vật (ví dụ: Dog, Cat…) |\n",
    "| `symptoms1` → `symptoms5` | `object` | 5 triệu chứng của con vật (có thể là bệnh lý hoặc dấu hiệu cơ thể) |\n",
    "| `Dangerous` | `object` (`Yes`/`No`) | Cho biết con vật có nguy hiểm hay không (Yes = nguy hiểm, No = không nguy hiểm) |\n"
   ]
  },
  {
   "cell_type": "markdown",
   "id": "daaf7288",
   "metadata": {},
   "source": [
    "**Mô tả tệp dữ liệu**\n",
    "\n",
    "| Tên động vật | Triệu chứng 1 | Triệu chứng 2          | Triệu chứng 3 | Triệu chứng 4   | Triệu chứng 5 | Nguy hiểm |\n",
    "|--------------|---------------|----------------------|---------------|----------------|---------------|-----------|\n",
    "| Chó          | Sốt            | Tiêu chảy             | Nôn mửa       | Sụt cân        | Mất nước      | Có        |\n",
    "| Chó          | Sốt            | Tiêu chảy             | Ho            | Mệt mỏi        | Đau nhức      | Có        |\n",
    "| Chó          | Sốt            | Tiêu chảy             | Ho            | Nôn mửa        | Chán ăn       | Có        |\n",
    "| Chó          | Sốt            | Khó thở               | Ho            | Uể oải         | Hắt hơi       | Có        |\n",
    "| Chó          | Sốt            | Tiêu chảy             | Ho            | Uể oải         | Mắt xanh      | Có        |\n"
   ]
  },
  {
   "cell_type": "markdown",
   "id": "38ad6d71",
   "metadata": {},
   "source": [
    "#### 2. Tiền xử lý dữ liệu"
   ]
  },
  {
   "cell_type": "markdown",
   "id": "a175a3e3",
   "metadata": {},
   "source": [
    "**Chuẩn hoá dữ liệu**\n",
    "Kiểm tra xem nó có nhất quán hay không\n",
    "\n",
    "Ví dụ: Fever và fever "
   ]
  },
  {
   "cell_type": "code",
   "execution_count": 26,
   "id": "2921e057",
   "metadata": {},
   "outputs": [
    {
     "name": "stdout",
     "output_type": "stream",
     "text": [
      "\n",
      "--- Kiểm tra 'symptoms1' (phân biệt hoa/thường) ---\n",
      "symptoms1\n",
      "Fever                      257\n",
      "Fetopelvic dispropotion     21\n",
      "wasting                     20\n",
      "fever                       14\n",
      "loss of appetite            12\n",
      "Swelling                     9\n",
      "Emaciation                   8\n",
      "Jaundice                     8\n",
      "sudden death                 8\n",
      "Dyspnea                      8\n",
      "Name: count, dtype: int64\n",
      "\n",
      "--- Kiểm tra 'symptoms5' (phân biệt số ít/nhiều) ---\n",
      "symptoms5\n",
      "Pains              99\n",
      "Pain               68\n",
      "Anorexia           37\n",
      "Nasal Discharge    37\n",
      "Weight loss        24\n",
      "Anemia             19\n",
      "Weakness           18\n",
      "Death              15\n",
      "depression         14\n",
      "Dehydration        14\n",
      "Name: count, dtype: int64\n"
     ]
    }
   ],
   "source": [
    "# Kiểm tra cột 'symptoms1'\n",
    "print(\"\\n--- Kiểm tra 'symptoms1' (phân biệt hoa/thường) ---\")\n",
    "print(df_raw['symptoms1'].value_counts().head(10)) \n",
    "\n",
    "# Kiểm tra cột 'symptoms5'\n",
    "print(\"\\n--- Kiểm tra 'symptoms5' (phân biệt số ít/nhiều) ---\")\n",
    "print(df_raw['symptoms5'].value_counts().head(10))"
   ]
  },
  {
   "cell_type": "markdown",
   "id": "804a9ed0",
   "metadata": {},
   "source": [
    "**Nhận xét:**\n",
    "\n",
    "Cột `symptoms1` chứa cả 'Fever' (viết hoa, 257 lần) và 'fever' (viết thường, 14 lần).\n",
    "\n",
    "Cột `symptoms5` chứa cả 'Pains' (số nhiều, 99 lần) và 'Pain' (số ít, 68 lần).\n",
    "\n",
    "Chúng ta cần chuẩn hóa chúng trước khi mã hóa vì máy sẽ nghĩ 4 giá trị hoàn toàn khác nhau."
   ]
  },
  {
   "cell_type": "markdown",
   "id": "740ad081",
   "metadata": {},
   "source": [
    "Kiểm tra giá trị thiếu (Missing Values) \n",
    "\n",
    "*Xem chính xác số lượng giá trị rỗng (NaN) trong mỗi cột.*"
   ]
  },
  {
   "cell_type": "code",
   "execution_count": 27,
   "id": "805d0590",
   "metadata": {},
   "outputs": [
    {
     "name": "stdout",
     "output_type": "stream",
     "text": [
      "\n",
      "--- Kiểm tra giá trị thiếu (NaN) ---\n",
      "AnimalName    0\n",
      "symptoms1     0\n",
      "symptoms2     0\n",
      "symptoms3     0\n",
      "symptoms4     0\n",
      "symptoms5     0\n",
      "Dangerous     2\n",
      "dtype: int64\n"
     ]
    }
   ],
   "source": [
    "# Đếm số lượng giá trị thiếu (NaN) trên cột\n",
    "print(\"\\n--- Kiểm tra giá trị thiếu (NaN) ---\")\n",
    "print(df_raw.isnull().sum())"
   ]
  },
  {
   "cell_type": "markdown",
   "id": "556dace2",
   "metadata": {},
   "source": [
    "**Nhận xét:**\n",
    "\n",
    "Kết quả `df_raw.info()` cho thấy `Dangerous` có 869 giá trị `non-null` trong khi các cột khác có 871.\n",
    "\n",
    "Cột `Dangerous` có 2 giá trị thiếu (NaN).\n",
    "\n",
    "Cột `Dangerous` chính là biến mục tiêu (target) mà chúng ta muốn dự đoán.\n",
    "\n",
    "→ **Giải pháp**: Vì số lượng thiếu chỉ là 2 (rất nhỏ so với 871), cách xử lý đơn giản và hợp lý nhất là loại bỏ 2 dòng này."
   ]
  },
  {
   "cell_type": "markdown",
   "id": "fe1900db",
   "metadata": {},
   "source": [
    "Kiểm tra biến mục tiêu"
   ]
  },
  {
   "cell_type": "code",
   "execution_count": 28,
   "id": "3b8fa6b0",
   "metadata": {},
   "outputs": [
    {
     "name": "stdout",
     "output_type": "stream",
     "text": [
      "Kiểm tra sự mất cân bằng của cột 'Dangerous'\n",
      "Số lượng mẫu (Count):\n",
      "Dangerous\n",
      "Yes    849\n",
      "No      20\n",
      "NaN      2\n",
      "Name: count, dtype: int64\n",
      "\n",
      "Tỷ lệ phần trăm (Percentage):\n",
      "Dangerous\n",
      "Yes    97.698504\n",
      "No      2.301496\n",
      "Name: proportion, dtype: float64\n"
     ]
    }
   ],
   "source": [
    "# Kiểm tra sự phân bổ của cột 'Dangerous'\n",
    "print(\"Kiểm tra sự mất cân bằng của cột 'Dangerous'\")\n",
    "print(\"Số lượng mẫu (Count):\")\n",
    "\n",
    "# dropna=False để hiển thị cả các giá trị NaN (nếu có)\n",
    "print(df_raw['Dangerous'].value_counts(dropna=False))\n",
    "\n",
    "print(\"\\nTỷ lệ phần trăm (Percentage):\")\n",
    "# normalize=True sẽ tính tỷ lệ phần trăm\n",
    "print(df_raw['Dangerous'].value_counts(normalize=True) * 100)"
   ]
  },
  {
   "cell_type": "markdown",
   "id": "4c3540e6",
   "metadata": {},
   "source": [
    "**Nhận xét:**\n",
    "\n",
    "- Kết quả cho thấy dữ liệu bị mất cân bằng cực kỳ nghiêm trọng.  \n",
    "\n",
    "    - Lớp 'Yes' (đa số) chiếm tới 849 mẫu (khoảng 97.7%).  \n",
    "    \n",
    "    - Lớp 'No' (thiểu số) chỉ có 20 mẫu (khoảng 2.3%).  "
   ]
  },
  {
   "cell_type": "markdown",
   "id": "6b62da2c",
   "metadata": {},
   "source": [
    "Làm sạch dữ liệu"
   ]
  },
  {
   "cell_type": "code",
   "execution_count": 29,
   "id": "8773578e",
   "metadata": {},
   "outputs": [
    {
     "name": "stdout",
     "output_type": "stream",
     "text": [
      "Dữ liệu sau khi làm sạch và mã hóa mục tiêu:\n",
      "Dangerous\n",
      "1    849\n",
      "0     20\n",
      "Name: count, dtype: int64\n",
      "\n",
      "Thông tin dữ liệu sau khi làm sạch:\n",
      "<class 'pandas.core.frame.DataFrame'>\n",
      "Index: 869 entries, 0 to 870\n",
      "Data columns (total 7 columns):\n",
      " #   Column      Non-Null Count  Dtype \n",
      "---  ------      --------------  ----- \n",
      " 0   AnimalName  869 non-null    object\n",
      " 1   symptoms1   869 non-null    object\n",
      " 2   symptoms2   869 non-null    object\n",
      " 3   symptoms3   869 non-null    object\n",
      " 4   symptoms4   869 non-null    object\n",
      " 5   symptoms5   869 non-null    object\n",
      " 6   Dangerous   869 non-null    int64 \n",
      "dtypes: int64(1), object(6)\n",
      "memory usage: 54.3+ KB\n"
     ]
    }
   ],
   "source": [
    "# Tải dữ liệu\n",
    "df = pd.read_csv('Dataset/data.csv')\n",
    "\n",
    "# --- Xử lý giá trị thiếu (NaN) ---\n",
    "# Loại bỏ 2 dòng thiếu DL\n",
    "df = df.dropna(subset=['Dangerous'])\n",
    "\n",
    "# --- Chuẩn hóa dữ liệu chữ ---\n",
    "# Đưa tất cả về chữ thường và loại bỏ khoảng trắng thừa\n",
    "for col in df.columns:\n",
    "    df[col] = df[col].str.lower().str.strip()\n",
    "\n",
    "# Chuẩn hóa các giá trị không nhất quán \n",
    "df['symptoms5'] = df['symptoms5'].replace('pains', 'pain')\n",
    "\n",
    "# --- Mã hóa Biến Mục tiêu (Target Encoding)\n",
    "# Chuyển 'Dangerous' ('yes'/'no') thành số (1/0)\n",
    "df['Dangerous'] = df['Dangerous'].map({'yes': 1, 'no': 0})\n",
    "\n",
    "print(\"Dữ liệu sau khi làm sạch và mã hóa mục tiêu:\")\n",
    "print(df['Dangerous'].value_counts())\n",
    "print(\"\\nThông tin dữ liệu sau khi làm sạch:\")\n",
    "df.info()"
   ]
  },
  {
   "cell_type": "markdown",
   "id": "c2596dad",
   "metadata": {},
   "source": [
    "**Nhận xét:**\n",
    "\n",
    "Loại bỏ 2 dòng bị thiếu dữ liệu mục tiêu, còn lại 869 dòng.\n",
    "\n",
    "Chuẩn hóa tất cả dữ liệu về chữ thường (ví dụ: 'Fever' và 'fever' giờ là một).\n",
    "\n",
    "Mã hóa cột mục tiêu 'Dangerous' thành 1 (yes) và 0 (no)."
   ]
  },
  {
   "cell_type": "markdown",
   "id": "b93ab347",
   "metadata": {},
   "source": [
    "Mã hóa đặc trưng (Feature Encoding)"
   ]
  },
  {
   "cell_type": "markdown",
   "id": "295c2515",
   "metadata": {},
   "source": [
    "Các cột đặc trưng ('AnimalName', 'symptoms1'...) vẫn đang là chữ.  Biến chúng thành các cột 0/1. Dùng ***'pd.get_dummies'*** "
   ]
  },
  {
   "cell_type": "code",
   "execution_count": 30,
   "id": "07743b95",
   "metadata": {},
   "outputs": [
    {
     "name": "stdout",
     "output_type": "stream",
     "text": [
      "Các đặc trưng sẽ được mã hóa: ['AnimalName', 'symptoms1', 'symptoms2', 'symptoms3', 'symptoms4', 'symptoms5']\n"
     ]
    },
    {
     "name": "stdout",
     "output_type": "stream",
     "text": [
      "\n",
      "Kích thước dữ liệu:\n",
      "(869, 1105)\n"
     ]
    }
   ],
   "source": [
    "# Lấy danh sách các cột đặc trưng (tất cả trừ cột 'Dangerous')\n",
    "features_list = df.columns.drop('Dangerous').tolist()\n",
    "\n",
    "print(f\"Các đặc trưng sẽ được mã hóa: {features_list}\")\n",
    "\n",
    "# Sử dụng pd.get_dummies để chuyển đổi các cột đặc trưng\n",
    "df_processed = pd.get_dummies(df, columns=features_list, drop_first=True)\n",
    "\n",
    "print(\"\\nKích thước dữ liệu:\")\n",
    "print(df_processed.shape)"
   ]
  },
  {
   "cell_type": "markdown",
   "id": "d3b170f7",
   "metadata": {},
   "source": [
    "**Nhận xét:**\n",
    "\n",
    "Dữ liệu gốc chỉ có 6 đặc trưng, nhưng sau khi mã hóa, số lượng đặc trưng đã tăng lên rất nhiều (thấy ở `df_processed.shape`). Đây là một bộ dữ liệu \"rộng\" và \"thưa\" (sparse)."
   ]
  },
  {
   "cell_type": "markdown",
   "id": "2142dc00",
   "metadata": {},
   "source": [
    "Chia dữ liệu (Train/Test Split) \n",
    "\n",
    "*Tách dữ liệu thành 2 tập: huấn luyện và kiểm tra.*"
   ]
  },
  {
   "cell_type": "code",
   "execution_count": 31,
   "id": "66388b24",
   "metadata": {},
   "outputs": [
    {
     "name": "stdout",
     "output_type": "stream",
     "text": [
      "Kích thước tập Train: (695, 1104)\n",
      "Kích thước tập Test: (174, 1104)\n"
     ]
    }
   ],
   "source": [
    "# Cột mục tiêu\n",
    "target = 'Dangerous'\n",
    "\n",
    "# X là tất cả các cột đã mã hóa (trừ cột mục tiêu)\n",
    "X = df_processed.drop(target, axis=1).values\n",
    "y = df_processed[target].values\n",
    "\n",
    "# Chia dữ liệu\n",
    "X_train, X_test, y_train, y_test = \\\n",
    "    train_test_split(X, y, test_size=0.2, random_state=42)\n",
    "\n",
    "print(f\"Kích thước tập Train: {X_train.shape}\")\n",
    "print(f\"Kích thước tập Test: {X_test.shape}\")"
   ]
  },
  {
   "cell_type": "markdown",
   "id": "b9420be4",
   "metadata": {},
   "source": [
    "Chuẩn hóa dữ liệu (Feature Scaling) "
   ]
  },
  {
   "cell_type": "code",
   "execution_count": 32,
   "id": "03a453bb",
   "metadata": {},
   "outputs": [
    {
     "name": "stdout",
     "output_type": "stream",
     "text": [
      "\n",
      "Đã hoàn tất chuẩn hóa dữ liệu.\n"
     ]
    }
   ],
   "source": [
    "# Khởi tạo Scaler\n",
    "scaler = StandardScaler()\n",
    "\n",
    "# Fit scaler trên X_train\n",
    "X_train_scaled = scaler.fit_transform(X_train)\n",
    "\n",
    "# Transform X_test\n",
    "X_test_scaled = scaler.transform(X_test)\n",
    "\n",
    "print(\"\\nĐã hoàn tất chuẩn hóa dữ liệu.\")"
   ]
  },
  {
   "cell_type": "markdown",
   "id": "79c50f48",
   "metadata": {},
   "source": [
    "#### 3. Xây dựng mô hình SVM"
   ]
  },
  {
   "cell_type": "markdown",
   "id": "d1361f6c",
   "metadata": {},
   "source": [
    "**Xây dựng SVM với xử lý mất cân bằng**"
   ]
  },
  {
   "cell_type": "markdown",
   "id": "56af8cae",
   "metadata": {},
   "source": [
    "Nếu train SVM bình thường, nó sẽ ưu tiên dự đoán lớp nhiều hơn, dẫn đến mất khả năng nhận dạng lớp ít.\n",
    "\n",
    "Do dữ liệu mất cân bằng nghiêm trọng (849 vs 20), nếu huấn luyện bình thường, mô hình sẽ phớt lờ lớp 'No' (0). \n",
    "\n",
    "Chúng ta sử dụng tham số class_weight='balanced' (SVM sẽ tự động cân bằng trọng số giữa các lớp) để lớp ít dữ liệu sẽ được “đặt trọng số lớn hơn” để mô hình chú ý nhiều hơn.\n"
   ]
  },
  {
   "cell_type": "code",
   "execution_count": 33,
   "id": "dfc1d93e",
   "metadata": {},
   "outputs": [
    {
     "name": "stdout",
     "output_type": "stream",
     "text": [
      "Hoàn thành!\n",
      "\n",
      "--- Đánh giá mô hình SVM ---\n",
      "              precision    recall  f1-score   support\n",
      "\n",
      "      No (0)       1.00      1.00      1.00         2\n",
      "     Yes (1)       1.00      1.00      1.00       172\n",
      "\n",
      "    accuracy                           1.00       174\n",
      "   macro avg       1.00      1.00      1.00       174\n",
      "weighted avg       1.00      1.00      1.00       174\n",
      "\n"
     ]
    }
   ],
   "source": [
    "# Tạo mô hình SVM với class_weight='balanced'\n",
    "svm_model_balanced = SVC(kernel='rbf', class_weight='balanced', random_state=42)\n",
    "\n",
    "# Huấn luyện mô hình với dữ liệu ĐÃ CHUẨN HÓA\n",
    "svm_model_balanced.fit(X_train_scaled, y_train)\n",
    "print(\"Hoàn thành!\")\n",
    "\n",
    "# Đánh giá mô hình\n",
    "print(\"\\n--- Đánh giá mô hình SVM ---\")\n",
    "y_pred_balanced = svm_model_balanced.predict(X_test_scaled)\n",
    "\n",
    "# In Classification Report\n",
    "# target_names giúp báo cáo dễ đọc hơn\n",
    "print(classification_report(y_test, y_pred_balanced, target_names=['No (0)', 'Yes (1)']))"
   ]
  },
  {
   "cell_type": "markdown",
   "id": "489b326c",
   "metadata": {},
   "source": [
    "**Nhận xét:**\n",
    "thêm `class_weight='balanced'`. Tham số này tự động điều chỉnh trọng số của các lớp tỷ lệ nghịch với tần suất của chúng (lớp 'No' (0) sẽ có trọng số cao hơn nhiều).\n",
    "\n",
    "Độ chính xác (accuracy) tổng thể có thể không cao, nhưng điều đó không quan trọng.\n",
    "\n",
    "Quan trọng là hãy nhìn vào dòng 'No (0)': `recall` (độ phủ) nên lớn hơn 0. Điều này có nghĩa là mô hình đã *bắt đầu học cách* nhận diện lớp thiểu số, thay vì phớt lờ nó."
   ]
  },
  {
   "cell_type": "markdown",
   "id": "eecbc375",
   "metadata": {},
   "source": [
    "**Tối ưu tham số SVM với GRIDSEARCHCV**"
   ]
  },
  {
   "cell_type": "markdown",
   "id": "66d7d8c8",
   "metadata": {},
   "source": [
    "Tìm các tham số 'C' và 'gamma' tốt nhất, trong khi vẫn giữ `class_weight='balanced'`."
   ]
  },
  {
   "cell_type": "markdown",
   "id": "6fbf39ef",
   "metadata": {},
   "source": [
    "***Định nghĩa lưới tham số (Parameter Grid)***\n",
    "\n",
    "Vì dữ liệu rất rộng và thưa, kernel='linear' có thể sẽ hoạt động tốt."
   ]
  },
  {
   "cell_type": "code",
   "execution_count": 34,
   "id": "ea9a6562",
   "metadata": {},
   "outputs": [
    {
     "name": "stdout",
     "output_type": "stream",
     "text": [
      "\n",
      "Tìm tham số tối ưu cho SVM\n"
     ]
    }
   ],
   "source": [
    "# Tạo một danh sách 'param_grid'\n",
    "param_grid = [\n",
    "    {\n",
    "        'kernel': ['linear'], \n",
    "        'C': [0.1, 1, 10] # Thử các mức độ \"phạt\" khác nhau\n",
    "    },\n",
    "    {\n",
    "        'kernel': ['rbf'], \n",
    "        'C': [0.1, 1, 10], \n",
    "        'gamma': ['scale', 0.001]\n",
    "    }\n",
    "]\n",
    "\n",
    "# Khởi tạo mô hình SVM cơ sở (vẫn giữ class_weight='balanced')\n",
    "svm_base = SVC(class_weight='balanced', random_state=42)\n",
    "\n",
    "# Khởi tạo GridSearchCV\n",
    "# scoring='roc_auc' là thước đo tốt nhất cho dữ liệu mất cân bằng\n",
    "grid_svm = GridSearchCV(svm_base, \n",
    "                        param_grid, \n",
    "                        cv=3, # \n",
    "                        scoring='roc_auc', \n",
    "                        verbose=1, \n",
    "                        n_jobs=-1)\n",
    "\n",
    "print(\"\\nTìm tham số tối ưu cho SVM\")"
   ]
  },
  {
   "cell_type": "markdown",
   "id": "3119c555",
   "metadata": {},
   "source": [
    "***Huấn luyện mô hình GridSearchCV***"
   ]
  },
  {
   "cell_type": "code",
   "execution_count": 35,
   "id": "80701458",
   "metadata": {},
   "outputs": [
    {
     "name": "stdout",
     "output_type": "stream",
     "text": [
      "Fitting 3 folds for each of 9 candidates, totalling 27 fits\n",
      "Hoàn thành!\n",
      "Các tham số tốt nhất tìm được: {'C': 1, 'gamma': 'scale', 'kernel': 'rbf'}\n",
      "Điểm ROC AUC tốt nhất (trên tập validation): 0.9478\n"
     ]
    }
   ],
   "source": [
    "# Huấn luyện trên dữ liệu đã chuẩn hóa\n",
    "grid_svm.fit(X_train_scaled, y_train)\n",
    "print(\"Hoàn thành!\")\n",
    "\n",
    "# In ra các tham số tốt nhất\n",
    "print(f\"Các tham số tốt nhất tìm được: {grid_svm.best_params_}\")\n",
    "print(f\"Điểm ROC AUC tốt nhất (trên tập validation): {grid_svm.best_score_:.4f}\")"
   ]
  },
  {
   "cell_type": "markdown",
   "id": "fb9041d1",
   "metadata": {},
   "source": [
    "**Nhận xét:**\n",
    "\n",
    "Dùng `scoring='roc_auc'`thay vì `accuracy`. ROC AUC là thước đo chuẩn cho khả năng phân biệt giữa hai lớp, đặc biệt khi chúng mất cân bằng.\n",
    "\n",
    "GridSearch sẽ tìm ra kernel ('linear' hay 'rbf') và tham số 'C' nào mang lại điểm ROC AUC cao nhất."
   ]
  },
  {
   "cell_type": "markdown",
   "id": "2e45eb26",
   "metadata": {},
   "source": [
    "#### 4. Đánh giá mô hình"
   ]
  },
  {
   "cell_type": "markdown",
   "id": "a9c7c506",
   "metadata": {},
   "source": [
    "**Đánh giá mô hình SVM tốt nhất**"
   ]
  },
  {
   "cell_type": "code",
   "execution_count": 36,
   "id": "0a3ddd16",
   "metadata": {},
   "outputs": [],
   "source": [
    "# Lấy ra mô hình tốt nhất\n",
    "best_svm_model = grid_svm.best_estimator_\n",
    "\n",
    "# Dự đoán trên tập Test (đã chuẩn hóa)\n",
    "y_pred = best_svm_model.predict(X_test_scaled)"
   ]
  },
  {
   "cell_type": "markdown",
   "id": "8cbd8f70",
   "metadata": {},
   "source": [
    "**Đánh giá hiệu quả với Classification Report**"
   ]
  },
  {
   "cell_type": "code",
   "execution_count": 37,
   "id": "f9e3dd2a",
   "metadata": {},
   "outputs": [
    {
     "name": "stdout",
     "output_type": "stream",
     "text": [
      "\n",
      "--- Classification Report---\n",
      "              precision    recall  f1-score   support\n",
      "\n",
      "      No (0)       1.00      1.00      1.00         2\n",
      "     Yes (1)       1.00      1.00      1.00       172\n",
      "\n",
      "    accuracy                           1.00       174\n",
      "   macro avg       1.00      1.00      1.00       174\n",
      "weighted avg       1.00      1.00      1.00       174\n",
      "\n"
     ]
    }
   ],
   "source": [
    "print(\"\\n--- Classification Report---\")\n",
    "print(classification_report(y_test, y_pred, target_names=['No (0)', 'Yes (1)']))"
   ]
  },
  {
   "cell_type": "markdown",
   "id": "49757dde",
   "metadata": {},
   "source": [
    "**Ma trận nhầm lẫn**\n"
   ]
  },
  {
   "cell_type": "code",
   "execution_count": 39,
   "id": "7de8582e",
   "metadata": {},
   "outputs": [
    {
     "name": "stdout",
     "output_type": "stream",
     "text": [
      "\n",
      "--- Confusion Matrix ---\n"
     ]
    },
    {
     "data": {
      "image/png": "[encoded data removed]",
      "text/plain": [
       "<Figure size 2400x1600 with 2 Axes>"
      ]
     },
     "metadata": {},
     "output_type": "display_data"
    }
   ],
   "source": [
    "# Tạo Confusion Matrix\n",
    "cm = confusion_matrix(y_test, y_pred)\n",
    "\n",
    "# Vẽ ma trận dưới dạng heatmap\n",
    "print(\"\\n--- Confusion Matrix ---\")\n",
    "plt.figure(figsize = (6,4))\n",
    "sns.heatmap(cm, \n",
    "            annot=True, # Hiển thị số lượng\n",
    "            fmt='d',    # Định dạng số nguyên\n",
    "            cmap=\"YlGnBu\", \n",
    "            xticklabels=['Dự đoán: No (0)', 'Dự đoán: Yes (1)'],\n",
    "            yticklabels=['Thực tế: No (0)', 'Thực tế: Yes (1)'])\n",
    "plt.title('Confusion Matrix cho Mô hình SVM Tối ưu')\n",
    "plt.show()"
   ]
  },
  {
   "cell_type": "markdown",
   "id": "4111253b",
   "metadata": {},
   "source": [
    "**Nhận xét:**\n",
    "\n",
    "1. Phân tích Lớp Thiểu số (Lớp 0: \"No - Không Nguy hiểm\")  \n",
    "\n",
    "    - \tTrue Negatives (TN) = 2: Trong tập test có 2 ca \"Không Nguy hiểm\", mô hình đã dự đoán đúng cả 2.  \n",
    "\n",
    "    -\tFalse Positives (FP) = 0: Mô hình không hề báo động nhầm (không dự đoán nhầm bất kỳ ca \"No\" nào thành \"Yes\").  \n",
    "\n",
    "    -\tRecall (Độ phủ) Lớp 0: $2 / (2 + 0) = 100\\%$. Mô hình đã \"tóm\" được 100% lớp thiểu số.  \n",
    "\n",
    "2. Phân tích Lớp Đa số (Lớp 1: \"Yes - Nguy hiểm\")  \n",
    "\n",
    "    -\tTrue Positives (TP) = 172: Trong tập test có 172 ca \"Nguy hiểm\", mô hình đã dự đoán đúng cả 172.  \n",
    "\n",
    "    -\tFalse Negatives (FN) = 0: Mô hình không hề bỏ sót bất kỳ trường hợp nguy hiểm nào (không dự đoán nhầm bất kỳ ca \"Yes\" nào thành \"No\").  \n",
    "    \n",
    "    -\tRecall (Độ phủ) Lớp 1: $172 / (172 + 0) = 100\\%$. Mô hình đã \"tóm\" được 100% lớp đa số.\n",
    "\n"
   ]
  }
 ],
 "metadata": {
  "kernelspec": {
   "display_name": "base",
   "language": "python",
   "name": "python3"
  },
  "language_info": {
   "codemirror_mode": {
    "name": "ipython",
    "version": 3
   },
   "file_extension": ".py",
   "mimetype": "text/x-python",
   "name": "python",
   "nbconvert_exporter": "python",
   "pygments_lexer": "ipython3",
   "version": "3.13.5"
  }
 },
 "nbformat": 4,
 "nbformat_minor": 5
}
