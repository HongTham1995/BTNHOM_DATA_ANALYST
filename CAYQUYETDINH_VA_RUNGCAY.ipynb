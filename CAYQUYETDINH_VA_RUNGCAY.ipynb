{
 "cells": [
  {
   "cell_type": "markdown",
   "id": "eed29ef1-8c3c-4564-a683-4d5800bf8b57",
   "metadata": {},
   "source": [
    "# 2.1. CÂY QUYẾT ĐỊNH VÀ RỪNG CÂY"
   ]
  },
  {
   "cell_type": "code",
   "execution_count": null,
   "id": "c140c72b-b13d-480b-8fcc-9379681b281b",
   "metadata": {},
   "outputs": [],
   "source": []
  }
 ],
 "metadata": {
  "kernelspec": {
   "display_name": "Python [conda env:base] *",
   "language": "python",
   "name": "conda-base-py"
  },
  "language_info": {
   "codemirror_mode": {
    "name": "ipython",
    "version": 3
   },
   "file_extension": ".py",
   "mimetype": "text/x-python",
   "name": "python",
   "nbconvert_exporter": "python",
   "pygments_lexer": "ipython3",
   "version": "3.11.9"
  }
 },
 "nbformat": 4,
 "nbformat_minor": 5
}
