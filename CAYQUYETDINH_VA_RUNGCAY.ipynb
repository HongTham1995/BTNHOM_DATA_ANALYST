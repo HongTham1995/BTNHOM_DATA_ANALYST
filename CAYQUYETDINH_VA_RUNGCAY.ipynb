{
 "cells": [
  {
   "cell_type": "markdown",
   "id": "eed29ef1-8c3c-4564-a683-4d5800bf8b57",
   "metadata": {},
   "source": [
    "# 2.1. CÂY QUYẾT ĐỊNH VÀ RỪNG CÂY"
   ]
  },
  {
   "cell_type": "markdown",
   "id": "8e899df1-0900-46f9-8452-793f25dd6525",
   "metadata": {},
   "source": [
    "## 2.1.1. Ôn tập lý thuyết"
   ]
  },
  {
   "cell_type": "markdown",
   "id": "f9e1cadc-09ec-4884-b44a-6ac55293478f",
   "metadata": {},
   "source": [
    "## 2.1.2. Bài làm mẫu"
   ]
  },
  {
   "cell_type": "markdown",
   "id": "16797ce7-d949-4228-ab15-a9fbe62f25bf",
   "metadata": {},
   "source": [
    "## 2.1.3. Bài tập thực hành 1"
   ]
  },
  {
   "cell_type": "markdown",
   "id": "ac1b8dce-262c-4646-9e98-6d3c95bf1434",
   "metadata": {},
   "source": [
    "## 2.1.4. Bài tập thực hành 2"
   ]
  },
  {
   "cell_type": "markdown",
   "id": "756f0f21-adc7-439d-9fe5-e56d5bf55dc7",
   "metadata": {},
   "source": [
    "Xây dựng cây quyết định và rừng cây trên dữ liệu bệnh tiểu đường. Dữ liệu lấy từ\n",
    "https://www.kaggle.com/code/tumpanjawat/diabetes-eda-random-forest-hp"
   ]
  },
  {
   "cell_type": "markdown",
   "id": "05fc533b-307f-4d65-a5eb-4e18b3a40c2f",
   "metadata": {},
   "source": [
    "### 1. Tải các thư viện cần thiết"
   ]
  },
  {
   "cell_type": "code",
   "execution_count": null,
   "id": "6b140522-534e-42be-9829-878a082809c1",
   "metadata": {},
   "outputs": [
    {
     "name": "stdout",
     "output_type": "stream",
     "text": [
      "Requirement already satisfied: graphviz in c:\\programdata\\anaconda3\\lib\\site-packages (0.21)\n",
      "Note: you may need to restart the kernel to use updated packages.\n"
     ]
    }
   ],
   "source": [
    "pip install graphviz\n"
   ]
  },
  {
   "cell_type": "code",
   "execution_count": 1,
   "id": "648a9841-8472-4332-8f38-03f8fc3700f8",
   "metadata": {},
   "outputs": [],
   "source": [
    "# 1. Import các thư viện cần thiết\n",
    "import numpy as np\n",
    "import pandas as pd\n",
    "import matplotlib.pyplot as plt\n",
    "%matplotlib inline\n",
    "import matplotlib as mpl\n",
    "mpl.rcParams['figure.dpi'] = 400  # tăng độ phân giải ảnh\n",
    "\n",
    "import graphviz  # dùng để hiển thị cây quyết định\n",
    "from sklearn import tree\n",
    "from sklearn.model_selection import train_test_split"
   ]
  },
  {
   "cell_type": "markdown",
   "id": "11548587-aa0e-4c62-bed8-a03659b35940",
   "metadata": {},
   "source": [
    "### 2. Nạp dữ liệu và xem thông tin"
   ]
  },
  {
   "cell_type": "code",
   "execution_count": 2,
   "id": "91bdb727-078f-4a7a-a911-730bba2b2b3d",
   "metadata": {},
   "outputs": [
    {
     "name": "stdout",
     "output_type": "stream",
     "text": [
      "✅ Dữ liệu ban đầu:\n",
      "   gender   age  hypertension  heart_disease smoking_history    bmi  \\\n",
      "0  Female  80.0             0              1           never  25.19   \n",
      "1  Female  54.0             0              0         No Info  27.32   \n",
      "2    Male  28.0             0              0           never  27.32   \n",
      "3  Female  36.0             0              0         current  23.45   \n",
      "4    Male  76.0             1              1         current  20.14   \n",
      "\n",
      "   HbA1c_level  blood_glucose_level  diabetes  \n",
      "0          6.6                  140         0  \n",
      "1          6.6                   80         0  \n",
      "2          5.7                  158         0  \n",
      "3          5.0                  155         0  \n",
      "4          4.8                  155         0  \n",
      "------------------------------------------------------------\n",
      "\n",
      "📊 Thông tin dữ liệu:\n",
      "<class 'pandas.core.frame.DataFrame'>\n",
      "RangeIndex: 100000 entries, 0 to 99999\n",
      "Data columns (total 9 columns):\n",
      " #   Column               Non-Null Count   Dtype  \n",
      "---  ------               --------------   -----  \n",
      " 0   gender               100000 non-null  object \n",
      " 1   age                  100000 non-null  float64\n",
      " 2   hypertension         100000 non-null  int64  \n",
      " 3   heart_disease        100000 non-null  int64  \n",
      " 4   smoking_history      100000 non-null  object \n",
      " 5   bmi                  100000 non-null  float64\n",
      " 6   HbA1c_level          100000 non-null  float64\n",
      " 7   blood_glucose_level  100000 non-null  int64  \n",
      " 8   diabetes             100000 non-null  int64  \n",
      "dtypes: float64(3), int64(4), object(2)\n",
      "memory usage: 6.9+ MB\n",
      "None\n",
      "------------------------------------------------------------\n",
      "\n",
      "🕳️ Kiểm tra giá trị null:\n",
      "gender                 0\n",
      "age                    0\n",
      "hypertension           0\n",
      "heart_disease          0\n",
      "smoking_history        0\n",
      "bmi                    0\n",
      "HbA1c_level            0\n",
      "blood_glucose_level    0\n",
      "diabetes               0\n",
      "dtype: int64\n"
     ]
    }
   ],
   "source": [
    "# 2. Nạp dữ liệu\n",
    "df = pd.read_csv(\"Dataset/diabetes_prediction_dataset.csv\")\n",
    "\n",
    "print(\"✅ Dữ liệu ban đầu:\")\n",
    "print(df.head())\n",
    "print(\"-\" * 60+\"\\n\")\n",
    "print(\"📊 Thông tin dữ liệu:\")\n",
    "print(df.info())\n",
    "print(\"-\" * 60+\"\\n\")\n",
    "print(\"🕳️ Kiểm tra giá trị null:\")\n",
    "print(df.isnull().sum())\n"
   ]
  },
  {
   "cell_type": "markdown",
   "id": "d7115b0c-4e67-4f84-99ff-734b8a81ea38",
   "metadata": {},
   "source": [
    "##### Nhận xét dữ liệu\n",
    "\n",
    "Dataset gồm 100.000 dòng và 9 cột, cung cấp thông tin về các yếu tố nguy cơ và tình trạng tiểu đường của bệnh nhân.\n",
    "\n",
    "Các cột gender và smoking_history là dữ liệu phân loại (categorical), còn các cột age, bmi, HbA1c_level, blood_glucose_level là dữ liệu số (numerical).\n",
    "\n",
    "Cột diabetes là target, với 0 = không tiểu đường, 1 = tiểu đường.\n",
    "\n",
    "Dataset không có giá trị null, nên dữ liệu khá sạch, không cần xử lý missing value.\n",
    "\n",
    "Có thể quan sát phân bố BMI, tuổi, HbA1c và đường huyết để đánh giá mối quan hệ giữa các chỉ số sức khỏe và khả năng mắc tiểu đường, từ đó hỗ trợ mô hình dự đoán."
   ]
  },
  {
   "cell_type": "markdown",
   "id": "1b598a5f-92c6-479f-a2f8-21a5d99318c1",
   "metadata": {},
   "source": [
    "### 3.Mã hóa biến phân loại (One-Hot Encoding)"
   ]
  },
  {
   "cell_type": "code",
   "execution_count": 3,
   "id": "bd041a39-bc25-491a-a092-ebacb22f74ac",
   "metadata": {},
   "outputs": [
    {
     "name": "stdout",
     "output_type": "stream",
     "text": [
      "✅ Dữ liệu sau mã hóa:\n",
      "    age  hypertension  heart_disease    bmi  HbA1c_level  blood_glucose_level  \\\n",
      "0  80.0             0              1  25.19          6.6                  140   \n",
      "1  54.0             0              0  27.32          6.6                   80   \n",
      "2  28.0             0              0  27.32          5.7                  158   \n",
      "3  36.0             0              0  23.45          5.0                  155   \n",
      "4  76.0             1              1  20.14          4.8                  155   \n",
      "\n",
      "   diabetes  gender_Female  gender_Male  gender_Other  \\\n",
      "0         0           True        False         False   \n",
      "1         0           True        False         False   \n",
      "2         0          False         True         False   \n",
      "3         0           True        False         False   \n",
      "4         0          False         True         False   \n",
      "\n",
      "   smoking_history_No Info  smoking_history_current  smoking_history_ever  \\\n",
      "0                    False                    False                 False   \n",
      "1                     True                    False                 False   \n",
      "2                    False                    False                 False   \n",
      "3                    False                     True                 False   \n",
      "4                    False                     True                 False   \n",
      "\n",
      "   smoking_history_former  smoking_history_never  smoking_history_not current  \n",
      "0                   False                   True                        False  \n",
      "1                   False                  False                        False  \n",
      "2                   False                   True                        False  \n",
      "3                   False                  False                        False  \n",
      "4                   False                  False                        False  \n"
     ]
    }
   ],
   "source": [
    "# 3. Mã hóa các biến phân loại\n",
    "df_encoded = pd.get_dummies(df, columns=['gender', 'smoking_history'], drop_first=False)\n",
    "\n",
    "print(\"✅ Dữ liệu sau mã hóa:\")\n",
    "print(df_encoded.head())"
   ]
  },
  {
   "cell_type": "markdown",
   "id": "2aab377b-9121-4f7f-a27a-0bc2c1c00ceb",
   "metadata": {},
   "source": [
    "\n",
    "\n",
    "Trong dataset, các cột gender và smoking_history là dữ liệu phân loại (categorical). Mô hình máy học như Decision Tree chỉ hiểu dữ liệu số, vì vậy chúng ta cần chuyển các giá trị phân loại sang dạng nhị phân (one-hot encoding).\n",
    "\n",
    "- Sử dụng pd.get_dummies() để tạo một cột cho mỗi giá trị của biến phân loại.\n",
    "- drop_first=False giữ tất cả các cột mới, giúp mô hình xem xét đầy đủ thông tin.\n",
    "- Ví dụ:\n",
    "  - gender có giá trị Female, Male, Other → được chuyển thành ba cột: gender_Female, gender_Male, gender_Other.\n",
    "  - smoking_history có nhiều giá trị như never, current, former… → được chuyển thành các cột riêng.\n",
    "\n",
    "Kết quả là mỗi hàng dữ liệu giờ sẽ có các cột True/False tương ứng với giá trị phân loại của nó, và tất cả các cột numeric giữ nguyên. Điều này cho phép Decision Tree và các mô hình khác sử dụng đầy đủ thông tin từ các biến phân loại.\n"
   ]
  },
  {
   "cell_type": "markdown",
   "id": "553f2659-7fb8-4d48-bfbc-4311afdb0491",
   "metadata": {},
   "source": [
    "### 4.Chia dữ liệu thành tập train / test"
   ]
  },
  {
   "cell_type": "code",
   "execution_count": 4,
   "id": "9f460c11-8b97-4721-97b8-1d08fec43e75",
   "metadata": {},
   "outputs": [
    {
     "name": "stdout",
     "output_type": "stream",
     "text": [
      "✅ Tập huấn luyện: (80000, 15)\n",
      "✅ Tập kiểm tra: (20000, 15)\n"
     ]
    }
   ],
   "source": [
    "# 4. Tách đầu vào (X) và nhãn đầu ra (y)\n",
    "X = df_encoded.drop(\"diabetes\", axis=1)\n",
    "y = df_encoded[\"diabetes\"]\n",
    "\n",
    "# Chia dữ liệu\n",
    "X_train, X_test, y_train, y_test = train_test_split(\n",
    "    X, y, test_size=0.2, random_state=42\n",
    ")\n",
    "\n",
    "print(f\"✅ Tập huấn luyện: {X_train.shape}\")\n",
    "print(f\"✅ Tập kiểm tra: {X_test.shape}\")\n"
   ]
  },
  {
   "cell_type": "markdown",
   "id": "5f896ad2-8440-4817-b146-35973acceb16",
   "metadata": {},
   "source": [
    "Trong bước này, chúng ta tách dữ liệu thành hai phần:\n",
    "\n",
    "- X: các đặc trưng (features), gồm tất cả các cột ngoại trừ cột diabetes.\n",
    "- y: nhãn đầu ra (target), chính là cột diabetes.\n",
    "\n",
    "Sau đó, dữ liệu được chia thành tập huấn luyện (train) và tập kiểm tra (test) để đánh giá mô hình:\n",
    "\n",
    "- test_size=0.2 nghĩa là 20% dữ liệu dùng để kiểm tra, 80% dùng để huấn luyện.\n",
    "- random_state=42 đảm bảo việc chia dữ liệu có thể lặp lại được.\n",
    "\n",
    "Kết quả trên dataset của chúng ta:\n",
    "\n",
    "- Tập huấn luyện: 80.000 mẫu, 15 đặc trưng.\n",
    "- Tập kiểm tra: 20.000 mẫu, 15 đặc trưng.\n",
    "\n",
    "Việc chia dữ liệu giúp mô hình học từ phần lớn dữ liệu nhưng vẫn được kiểm tra trên dữ liệu chưa thấy, từ đó đánh giá khả năng tổng quát hóa.\n",
    "\n",
    "\n",
    "\n",
    "\n",
    "\n",
    "\n"
   ]
  },
  {
   "cell_type": "markdown",
   "id": "adf0f456-3015-4e44-b0fc-07a23121e81f",
   "metadata": {},
   "source": [
    "### 5.Huấn luyện mô hình Decision Tree"
   ]
  },
  {
   "cell_type": "code",
   "execution_count": 5,
   "id": "880f3f5c-7673-40aa-8565-2b2fbed9e997",
   "metadata": {},
   "outputs": [
    {
     "name": "stdout",
     "output_type": "stream",
     "text": [
      " Mô hình cây quyết định đã được huấn luyện xong!\n"
     ]
    }
   ],
   "source": [
    "# 5. Xây dựng mô hình cây quyết định\n",
    "dt = tree.DecisionTreeClassifier(max_depth=3, random_state=42)\n",
    "dt.fit(X_train, y_train)\n",
    "\n",
    "print(\" Mô hình cây quyết định đã được huấn luyện xong!\")\n"
   ]
  },
  {
   "cell_type": "markdown",
   "id": "8174d4e8-5da1-463e-a475-ece78d7ae036",
   "metadata": {},
   "source": [
    "### 6.Hiển thị cây bằng Graphviz"
   ]
  },
  {
   "cell_type": "code",
   "execution_count": 6,
   "id": "1c92a861-326f-4235-8e72-81c27018e836",
   "metadata": {},
   "outputs": [
    {
     "name": "stderr",
     "output_type": "stream",
     "text": [
      "\n",
      "(process:12932): Pango-CRITICAL **: 20:49:01.504: pango_font_description_get_family: assertion 'desc != NULL' failed\n",
      "\n",
      "(process:12932): Pango-CRITICAL **: 20:49:01.504: pango_font_description_get_family: assertion 'desc != NULL' failed\n",
      "\n",
      "(process:12932): Pango-CRITICAL **: 20:49:01.504: pango_font_description_get_family: assertion 'desc != NULL' failed\n",
      "\n",
      "(process:12932): Pango-CRITICAL **: 20:49:01.504: pango_font_description_get_family: assertion 'desc != NULL' failed\n"
     ]
    },
    {
     "data": {
      "image/svg+xml": [
       "<?xml version=\"1.0\" encoding=\"UTF-8\" standalone=\"no\"?>\n",
       "<!DOCTYPE svg PUBLIC \"-//W3C//DTD SVG 1.1//EN\"\n",
       " \"http://www.w3.org/Graphics/SVG/1.1/DTD/svg11.dtd\">\n",
       "<!-- Generated by graphviz version 14.0.2 (20251019.1705)\n",
       " -->\n",
       "<!-- Title: Tree Pages: 1 -->\n",
       "<svg width=\"522pt\" height=\"447pt\"\n",
       " viewBox=\"0.00 0.00 522.00 447.00\" xmlns=\"http://www.w3.org/2000/svg\" xmlns:xlink=\"http://www.w3.org/1999/xlink\">\n",
       "<g id=\"graph0\" class=\"graph\" transform=\"scale(1 1) rotate(0) translate(4 443.25)\">\n",
       "<title>Tree</title>\n",
       "<polygon fill=\"white\" stroke=\"none\" points=\"-4,4 -4,-443.25 518.12,-443.25 518.12,4 -4,4\"/>\n",
       "<!-- 0 -->\n",
       "<g id=\"node1\" class=\"node\">\n",
       "<title>0</title>\n",
       "<path fill=\"#e78d4b\" stroke=\"black\" d=\"M429.25,-439.25C429.25,-439.25 282,-439.25 282,-439.25 276,-439.25 270,-433.25 270,-427.25 270,-427.25 270,-364.5 270,-364.5 270,-358.5 276,-352.5 282,-352.5 282,-352.5 429.25,-352.5 429.25,-352.5 435.25,-352.5 441.25,-358.5 441.25,-364.5 441.25,-364.5 441.25,-427.25 441.25,-427.25 441.25,-433.25 435.25,-439.25 429.25,-439.25\"/>\n",
       "<text xml:space=\"preserve\" text-anchor=\"middle\" x=\"355.62\" y=\"-421.95\" font-family=\"Helvetica,sans-Serif\" font-size=\"14.00\">HbA1c_level &lt;= 6.7</text>\n",
       "<text xml:space=\"preserve\" text-anchor=\"middle\" x=\"355.62\" y=\"-406.2\" font-family=\"Helvetica,sans-Serif\" font-size=\"14.00\">gini = 0.155</text>\n",
       "<text xml:space=\"preserve\" text-anchor=\"middle\" x=\"355.62\" y=\"-390.45\" font-family=\"Helvetica,sans-Serif\" font-size=\"14.00\">samples = 100.0%</text>\n",
       "<text xml:space=\"preserve\" text-anchor=\"middle\" x=\"355.62\" y=\"-374.7\" font-family=\"Helvetica,sans-Serif\" font-size=\"14.00\">value = [0.915, 0.085]</text>\n",
       "<text xml:space=\"preserve\" text-anchor=\"middle\" x=\"355.62\" y=\"-358.95\" font-family=\"Helvetica,sans-Serif\" font-size=\"14.00\">class = Không tiểu đường</text>\n",
       "</g>\n",
       "<!-- 1 -->\n",
       "<g id=\"node2\" class=\"node\">\n",
       "<title>1</title>\n",
       "<path fill=\"#e68743\" stroke=\"black\" d=\"M350.62,-316.5C350.62,-316.5 178.62,-316.5 178.62,-316.5 172.62,-316.5 166.62,-310.5 166.62,-304.5 166.62,-304.5 166.62,-241.75 166.62,-241.75 166.62,-235.75 172.62,-229.75 178.62,-229.75 178.62,-229.75 350.62,-229.75 350.62,-229.75 356.62,-229.75 362.62,-235.75 362.62,-241.75 362.62,-241.75 362.62,-304.5 362.62,-304.5 362.62,-310.5 356.62,-316.5 350.62,-316.5\"/>\n",
       "<text xml:space=\"preserve\" text-anchor=\"middle\" x=\"264.62\" y=\"-299.2\" font-family=\"Helvetica,sans-Serif\" font-size=\"14.00\">blood_glucose_level &lt;= 210.0</text>\n",
       "<text xml:space=\"preserve\" text-anchor=\"middle\" x=\"264.62\" y=\"-283.45\" font-family=\"Helvetica,sans-Serif\" font-size=\"14.00\">gini = 0.091</text>\n",
       "<text xml:space=\"preserve\" text-anchor=\"middle\" x=\"264.62\" y=\"-267.7\" font-family=\"Helvetica,sans-Serif\" font-size=\"14.00\">samples = 96.1%</text>\n",
       "<text xml:space=\"preserve\" text-anchor=\"middle\" x=\"264.62\" y=\"-251.95\" font-family=\"Helvetica,sans-Serif\" font-size=\"14.00\">value = [0.952, 0.048]</text>\n",
       "<text xml:space=\"preserve\" text-anchor=\"middle\" x=\"264.62\" y=\"-236.2\" font-family=\"Helvetica,sans-Serif\" font-size=\"14.00\">class = Không tiểu đường</text>\n",
       "</g>\n",
       "<!-- 0&#45;&gt;1 -->\n",
       "<g id=\"edge1\" class=\"edge\">\n",
       "<title>0&#45;&gt;1</title>\n",
       "<path fill=\"none\" stroke=\"black\" d=\"M323.54,-352.3C317.09,-343.74 310.23,-334.64 303.57,-325.81\"/>\n",
       "<polygon fill=\"black\" stroke=\"black\" points=\"306.45,-323.81 297.64,-317.93 300.86,-328.02 306.45,-323.81\"/>\n",
       "<text xml:space=\"preserve\" text-anchor=\"middle\" x=\"293.25\" y=\"-336.05\" font-family=\"Helvetica,sans-Serif\" font-size=\"14.00\">True</text>\n",
       "</g>\n",
       "<!-- 6 -->\n",
       "<g id=\"node7\" class=\"node\">\n",
       "<title>6</title>\n",
       "<path fill=\"#399de5\" stroke=\"black\" d=\"M502.12,-308.62C502.12,-308.62 393.12,-308.62 393.12,-308.62 387.12,-308.62 381.12,-302.62 381.12,-296.62 381.12,-296.62 381.12,-249.62 381.12,-249.62 381.12,-243.62 387.12,-237.62 393.12,-237.62 393.12,-237.62 502.12,-237.62 502.12,-237.62 508.12,-237.62 514.12,-243.62 514.12,-249.62 514.12,-249.62 514.12,-296.62 514.12,-296.62 514.12,-302.62 508.12,-308.62 502.12,-308.62\"/>\n",
       "<text xml:space=\"preserve\" text-anchor=\"middle\" x=\"447.62\" y=\"-291.32\" font-family=\"Helvetica,sans-Serif\" font-size=\"14.00\">gini = 0.0</text>\n",
       "<text xml:space=\"preserve\" text-anchor=\"middle\" x=\"447.62\" y=\"-275.57\" font-family=\"Helvetica,sans-Serif\" font-size=\"14.00\">samples = 3.9%</text>\n",
       "<text xml:space=\"preserve\" text-anchor=\"middle\" x=\"447.62\" y=\"-259.82\" font-family=\"Helvetica,sans-Serif\" font-size=\"14.00\">value = [0.0, 1.0]</text>\n",
       "<text xml:space=\"preserve\" text-anchor=\"middle\" x=\"447.62\" y=\"-244.07\" font-family=\"Helvetica,sans-Serif\" font-size=\"14.00\">class = Tiểu đường</text>\n",
       "</g>\n",
       "<!-- 0&#45;&gt;6 -->\n",
       "<g id=\"edge6\" class=\"edge\">\n",
       "<title>0&#45;&gt;6</title>\n",
       "<path fill=\"none\" stroke=\"black\" d=\"M388.06,-352.3C396.63,-341.05 405.9,-328.89 414.5,-317.6\"/>\n",
       "<polygon fill=\"black\" stroke=\"black\" points=\"417.05,-320.03 420.32,-309.96 411.48,-315.79 417.05,-320.03\"/>\n",
       "<text xml:space=\"preserve\" text-anchor=\"middle\" x=\"424.59\" y=\"-328.1\" font-family=\"Helvetica,sans-Serif\" font-size=\"14.00\">False</text>\n",
       "</g>\n",
       "<!-- 2 -->\n",
       "<g id=\"node3\" class=\"node\">\n",
       "<title>2</title>\n",
       "<path fill=\"#e6853f\" stroke=\"black\" d=\"M253.25,-193.75C253.25,-193.75 106,-193.75 106,-193.75 100,-193.75 94,-187.75 94,-181.75 94,-181.75 94,-119 94,-119 94,-113 100,-107 106,-107 106,-107 253.25,-107 253.25,-107 259.25,-107 265.25,-113 265.25,-119 265.25,-119 265.25,-181.75 265.25,-181.75 265.25,-187.75 259.25,-193.75 253.25,-193.75\"/>\n",
       "<text xml:space=\"preserve\" text-anchor=\"middle\" x=\"179.62\" y=\"-176.45\" font-family=\"Helvetica,sans-Serif\" font-size=\"14.00\">age &lt;= 54.5</text>\n",
       "<text xml:space=\"preserve\" text-anchor=\"middle\" x=\"179.62\" y=\"-160.7\" font-family=\"Helvetica,sans-Serif\" font-size=\"14.00\">gini = 0.058</text>\n",
       "<text xml:space=\"preserve\" text-anchor=\"middle\" x=\"179.62\" y=\"-144.95\" font-family=\"Helvetica,sans-Serif\" font-size=\"14.00\">samples = 94.3%</text>\n",
       "<text xml:space=\"preserve\" text-anchor=\"middle\" x=\"179.62\" y=\"-129.2\" font-family=\"Helvetica,sans-Serif\" font-size=\"14.00\">value = [0.97, 0.03]</text>\n",
       "<text xml:space=\"preserve\" text-anchor=\"middle\" x=\"179.62\" y=\"-113.45\" font-family=\"Helvetica,sans-Serif\" font-size=\"14.00\">class = Không tiểu đường</text>\n",
       "</g>\n",
       "<!-- 1&#45;&gt;2 -->\n",
       "<g id=\"edge2\" class=\"edge\">\n",
       "<title>1&#45;&gt;2</title>\n",
       "<path fill=\"none\" stroke=\"black\" d=\"M234.66,-229.55C228.69,-221.08 222.36,-212.09 216.2,-203.33\"/>\n",
       "<polygon fill=\"black\" stroke=\"black\" points=\"219.1,-201.37 210.48,-195.21 213.37,-205.4 219.1,-201.37\"/>\n",
       "</g>\n",
       "<!-- 5 -->\n",
       "<g id=\"node6\" class=\"node\">\n",
       "<title>5</title>\n",
       "<path fill=\"#399de5\" stroke=\"black\" d=\"M404.12,-185.88C404.12,-185.88 295.12,-185.88 295.12,-185.88 289.12,-185.88 283.12,-179.88 283.12,-173.88 283.12,-173.88 283.12,-126.88 283.12,-126.88 283.12,-120.88 289.12,-114.88 295.12,-114.88 295.12,-114.88 404.12,-114.88 404.12,-114.88 410.12,-114.88 416.12,-120.88 416.12,-126.88 416.12,-126.88 416.12,-173.88 416.12,-173.88 416.12,-179.88 410.12,-185.88 404.12,-185.88\"/>\n",
       "<text xml:space=\"preserve\" text-anchor=\"middle\" x=\"349.62\" y=\"-168.57\" font-family=\"Helvetica,sans-Serif\" font-size=\"14.00\">gini = 0.0</text>\n",
       "<text xml:space=\"preserve\" text-anchor=\"middle\" x=\"349.62\" y=\"-152.82\" font-family=\"Helvetica,sans-Serif\" font-size=\"14.00\">samples = 1.8%</text>\n",
       "<text xml:space=\"preserve\" text-anchor=\"middle\" x=\"349.62\" y=\"-137.07\" font-family=\"Helvetica,sans-Serif\" font-size=\"14.00\">value = [0.0, 1.0]</text>\n",
       "<text xml:space=\"preserve\" text-anchor=\"middle\" x=\"349.62\" y=\"-121.33\" font-family=\"Helvetica,sans-Serif\" font-size=\"14.00\">class = Tiểu đường</text>\n",
       "</g>\n",
       "<!-- 1&#45;&gt;5 -->\n",
       "<g id=\"edge5\" class=\"edge\">\n",
       "<title>1&#45;&gt;5</title>\n",
       "<path fill=\"none\" stroke=\"black\" d=\"M294.59,-229.55C302.43,-218.41 310.9,-206.39 318.79,-195.18\"/>\n",
       "<polygon fill=\"black\" stroke=\"black\" points=\"321.48,-197.43 324.38,-187.24 315.76,-193.4 321.48,-197.43\"/>\n",
       "</g>\n",
       "<!-- 3 -->\n",
       "<g id=\"node4\" class=\"node\">\n",
       "<title>3</title>\n",
       "<path fill=\"#e5833c\" stroke=\"black\" d=\"M159.25,-71C159.25,-71 12,-71 12,-71 6,-71 0,-65 0,-59 0,-59 0,-12 0,-12 0,-6 6,0 12,0 12,0 159.25,0 159.25,0 165.25,0 171.25,-6 171.25,-12 171.25,-12 171.25,-59 171.25,-59 171.25,-65 165.25,-71 159.25,-71\"/>\n",
       "<text xml:space=\"preserve\" text-anchor=\"middle\" x=\"85.62\" y=\"-53.7\" font-family=\"Helvetica,sans-Serif\" font-size=\"14.00\">gini = 0.025</text>\n",
       "<text xml:space=\"preserve\" text-anchor=\"middle\" x=\"85.62\" y=\"-37.95\" font-family=\"Helvetica,sans-Serif\" font-size=\"14.00\">samples = 66.0%</text>\n",
       "<text xml:space=\"preserve\" text-anchor=\"middle\" x=\"85.62\" y=\"-22.2\" font-family=\"Helvetica,sans-Serif\" font-size=\"14.00\">value = [0.987, 0.013]</text>\n",
       "<text xml:space=\"preserve\" text-anchor=\"middle\" x=\"85.62\" y=\"-6.45\" font-family=\"Helvetica,sans-Serif\" font-size=\"14.00\">class = Không tiểu đường</text>\n",
       "</g>\n",
       "<!-- 2&#45;&gt;3 -->\n",
       "<g id=\"edge3\" class=\"edge\">\n",
       "<title>2&#45;&gt;3</title>\n",
       "<path fill=\"none\" stroke=\"black\" d=\"M144.09,-106.7C136.76,-97.9 129.03,-88.62 121.68,-79.8\"/>\n",
       "<polygon fill=\"black\" stroke=\"black\" points=\"124.54,-77.76 115.46,-72.32 119.17,-82.24 124.54,-77.76\"/>\n",
       "</g>\n",
       "<!-- 4 -->\n",
       "<g id=\"node5\" class=\"node\">\n",
       "<title>4</title>\n",
       "<path fill=\"#e78a48\" stroke=\"black\" d=\"M348.25,-71C348.25,-71 201,-71 201,-71 195,-71 189,-65 189,-59 189,-59 189,-12 189,-12 189,-6 195,0 201,0 201,0 348.25,0 348.25,0 354.25,0 360.25,-6 360.25,-12 360.25,-12 360.25,-59 360.25,-59 360.25,-65 354.25,-71 348.25,-71\"/>\n",
       "<text xml:space=\"preserve\" text-anchor=\"middle\" x=\"274.62\" y=\"-53.7\" font-family=\"Helvetica,sans-Serif\" font-size=\"14.00\">gini = 0.13</text>\n",
       "<text xml:space=\"preserve\" text-anchor=\"middle\" x=\"274.62\" y=\"-37.95\" font-family=\"Helvetica,sans-Serif\" font-size=\"14.00\">samples = 28.4%</text>\n",
       "<text xml:space=\"preserve\" text-anchor=\"middle\" x=\"274.62\" y=\"-22.2\" font-family=\"Helvetica,sans-Serif\" font-size=\"14.00\">value = [0.93, 0.07]</text>\n",
       "<text xml:space=\"preserve\" text-anchor=\"middle\" x=\"274.62\" y=\"-6.45\" font-family=\"Helvetica,sans-Serif\" font-size=\"14.00\">class = Không tiểu đường</text>\n",
       "</g>\n",
       "<!-- 2&#45;&gt;4 -->\n",
       "<g id=\"edge4\" class=\"edge\">\n",
       "<title>2&#45;&gt;4</title>\n",
       "<path fill=\"none\" stroke=\"black\" d=\"M215.54,-106.7C222.95,-97.9 230.76,-88.62 238.19,-79.8\"/>\n",
       "<polygon fill=\"black\" stroke=\"black\" points=\"240.72,-82.22 244.48,-72.32 235.36,-77.71 240.72,-82.22\"/>\n",
       "</g>\n",
       "</g>\n",
       "</svg>\n"
      ],
      "text/plain": [
       "<graphviz.sources.Source at 0x29b12eabad0>"
      ]
     },
     "execution_count": 6,
     "metadata": {},
     "output_type": "execute_result"
    }
   ],
   "source": [
    "# 6. Xuất cây quyết định\n",
    "dot_data = tree.export_graphviz(\n",
    "    dt,\n",
    "    out_file=None,\n",
    "    filled=True,\n",
    "    rounded=True,\n",
    "    feature_names=X.columns,\n",
    "    class_names=[\"Không tiểu đường\", \"Tiểu đường\"],\n",
    "    proportion=True\n",
    ")\n",
    "\n",
    "# Hiển thị cây\n",
    "graph = graphviz.Source(dot_data)\n",
    "graph\n"
   ]
  },
  {
   "cell_type": "code",
   "execution_count": null,
   "id": "ae064c4c-bac3-4077-8de9-46b5fcd1a6dd",
   "metadata": {},
   "outputs": [],
   "source": []
  }
 ],
 "metadata": {
  "kernelspec": {
   "display_name": "Python [conda env:base] *",
   "language": "python",
   "name": "conda-base-py"
  },
  "language_info": {
   "codemirror_mode": {
    "name": "ipython",
    "version": 3
   },
   "file_extension": ".py",
   "mimetype": "text/x-python",
   "name": "python",
   "nbconvert_exporter": "python",
   "pygments_lexer": "ipython3",
   "version": "3.11.9"
  }
 },
 "nbformat": 4,
 "nbformat_minor": 5
}
