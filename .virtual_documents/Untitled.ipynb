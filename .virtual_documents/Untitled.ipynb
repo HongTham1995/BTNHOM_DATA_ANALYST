import json
from glob import glob

def merge_notebooks(filenames, output_filename):
    """
    Gộp nhiều Jupyter notebooks thành một
    """
    merged_cells = []
    
    for filename in filenames:
        with open(filename, 'r', encoding='utf-8') as f:
            notebook = json.load(f)
            cells = notebook.get('cells', [])
            
            # Thêm markdown cell để đánh dấu file gốc
            header_cell = {
                "cell_type": "markdown",
                "metadata": {},
                "source": [f"# File: {filename}"]
            }
            merged_cells.append(header_cell)
            
            # Thêm tất cả cells từ notebook hiện tại
            merged_cells.extend(cells)
    
    # Tạo notebook mới
    merged_notebook = {
        "cells": merged_cells,
        "metadata": {
            "kernelspec": {
                "display_name": "Python 3",
                "language": "python",
                "name": "python3"
            },
            "language_info": {
                "name": "python",
                "version": ""
            }
        },
        "nbformat": 4,
        "nbformat_minor": 4
    }
    
    # Lưu notebook đã gộp
    with open(output_filename, 'w', encoding='utf-8') as f:
        json.dump(merged_notebook, f, indent=2, ensure_ascii=False)

# Sử dụng
files_to_merge = ['CAYQUYETDINH_VA_RUNGCAY.ipynb', 'Untitled-1 - Copy.ipynb']
merge_notebooks(files_to_merge, 'CAYQUYETDINH_VA_RUNGCAY(2).ipynb')



