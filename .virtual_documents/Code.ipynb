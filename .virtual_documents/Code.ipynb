





pip install graphviz



# 1. Import các thư viện cần thiết
import numpy as np
import pandas as pd
import matplotlib.pyplot as plt
%matplotlib inline
import matplotlib as mpl
mpl.rcParams['figure.dpi'] = 400  # tăng độ phân giải ảnh

import graphviz  # dùng để hiển thị cây quyết định
from sklearn import tree
from sklearn.model_selection import train_test_split








# 2. Nạp dữ liệu
df = pd.read_csv("Dataset/diabetes_prediction_dataset.csv")

print("✅ Dữ liệu ban đầu:")
print(df.head())
print("-" * 60+"\n")
print("📊 Thông tin dữ liệu:")
print(df.info())
print("-" * 60+"\n")
print("🕳️ Kiểm tra giá trị null:")
print(df.isnull().sum())









# 3. Mã hóa các biến phân loại
df_encoded = pd.get_dummies(df, columns=['gender', 'smoking_history'], drop_first=False)

print("✅ Dữ liệu sau mã hóa:")
print(df_encoded.head())








# 4. Tách đầu vào (X) và nhãn đầu ra (y)
X = df_encoded.drop("diabetes", axis=1)
y = df_encoded["diabetes"]

# Chia dữ liệu
X_train, X_test, y_train, y_test = train_test_split(
    X, y, test_size=0.2, random_state=42
)

print(f"✅ Tập huấn luyện: {X_train.shape}")
print(f"✅ Tập kiểm tra: {X_test.shape}")









# 5. Xây dựng mô hình cây quyết định
dt = tree.DecisionTreeClassifier(max_depth=3, random_state=42)
dt.fit(X_train, y_train)

print("✅ Mô hình cây quyết định đã được huấn luyện xong!")






# 6. Xuất cây quyết định
dot_data = tree.export_graphviz(
    dt,
    out_file=None,
    filled=True,
    rounded=True,
    feature_names=X.columns,
    class_names=["Không tiểu đường", "Tiểu đường"],
    proportion=True
)

# Hiển thị cây
graph = graphviz.Source(dot_data)
graph






























import numpy as np
from sklearn import datasets
from sklearn.model_selection import train_test_split
# Download&Load dữ liệu iris từ datasets của scikit-learn
iris = datasets.load_iris()
# Hiển thị mô ta dữ liệu, chỉ có trong các bộ dữ liệu chuẩn và mở để học tập và nghiên cứu
print(iris.DESCR)
# Từ tập dữ liệu ban đầu, tách lấy ma trận biểu diễn các đặc trưng vànhãn.
data = iris.data
target = iris.target
# TODO: Chia dữ liệu và nhãn thành 2 tập dữ liệu huấn luyện và dữ liệukiểm tra theo tỉ lệ 80:20
X_train, X_test, y_train, y_test = train_test_split(data, target,
test_size
= 0.2, random_state=101)








from sklearn import svm
# khởi tạo mô hình phân lớp
clf = svm.SVC()
# Sử dụng phương thức 'fit' để huấn luyện mô hình với dữ liệu huấn luyện và nhãn huấn luyện
# fit (X,Y) với X là tập các đối tượng, Y là tập nhãn tương ứng của đối tượng.
clf.fit(X_train, y_train)








# Tính độ chính xác trên tập huấn luyện và tập kiểm tra
train_acc = clf.score(X_train,y_train)
val_acc = clf.score(X_test,y_test)
print('Training accuracy: {}'.format(train_acc))
print('Validation accuracy: {}'.format(val_acc))








# best_svm, best_val_acc và best_kernel lần lượt là các biến lưu mô hình tốt nhất,
# độ chính xác cao nhất trên tập kiểm tra và kernel tốt nhất
kernels = ['linear', 'poly', 'rbf', 'sigmoid']
best_svm = None
best_val_acc = -1
best_kernel = None
# Huấn luyện các mô hình dựa trên dữ liệu huấn luyện và tham số kernel
# Tính toán độ chính xác trên tập huấn luyện và tập kiểm tra để tìm được mô hình tốt nhất
for i in range(4):
    clf = svm.SVC(kernel=kernels[i], probability=True)
    clf.fit(X_train, y_train)
    tmp_val_acc = clf.score(X_test, y_test)
    if (tmp_val_acc > best_val_acc):
        best_val_acc = tmp_val_acc
        best_svm = clf
        best_kernel = kernels[i]
# Hiển thị mô hình tốt nhất cùng với độ chính xác
print("Best validation accuracy : {} with kernel: {}".format(best_val_acc,
best_kernel))
# Mô hình tốt nhất của bạn nên có độ chính xác xấp xỉ 86,67%


















import pandas as pd
import numpy as np
import matplotlib as mpl
import matplotlib.pyplot as plt

from sklearn.datasets import load_digits
digits = load_digits(n_class=10)








#thông tin toàn bộ dữ liệu đã tải về digits
#xem thông tin của một hình dưới dạng ma trận 8 x 8
digits['data'][0].reshape(8,8)
#xem thông tin của một hình dưới dạng mảng
digits['data'][0]
#xem thông tin 9 nhãn đầu tiên
digits['target'][0:9]








import matplotlib.pyplot as plt
from sklearn.datasets import load_digits

# Nạp dữ liệu digits
digits = load_digits()

# Mỗi ảnh là ma trận 8x8
fig, ax = plt.subplots(8, 8, figsize=(8, 8))

for i, axi in enumerate(ax.flat):
    axi.imshow(digits.images[i], cmap='binary')  # Hiển thị ảnh mức xám
    axi.set(xticks=[], yticks=[])                # Ẩn trục

plt.tight_layout()
plt.show()









# Hàm vẽ 1 ảnh có kích thước 8 x 8 (ảnh lấy từ ma images)
def view_digit(index):
    plt.imshow(digits.images[index] , cmap = plt.cm.gray_r)
    plt.title('Orignal it is: '+ str(digits.target[index]))
    plt.show()
# vẽ ảnh ở vị trí thứ 4
view_digit(4)











# Thực hiện import các thư viện cần thiết để xây dựng mô hình SVM
# Thực hiện bước 1 của nhiệm vụ 1
from sklearn import svm
main_data = digits['data']
targets = digits['target']
svc = svm.SVC(gamma=0.001 , C = 100)
# GAMMA is a parameter for non linear hyperplanes.
# The higher the gamma value it tries to exactly fit the training data set
# C is the penalty parameter of the error term.
# It controls the trade off between smooth decision boundary and classifying the training points correctly.
svc.fit(main_data[:1500] , targets[:1500])
predictions = svc.predict(main_data[1501:])
# list(zip(predictions , targets[1501:]))








from sklearn.metrics import confusion_matrix
import seaborn as sns
import matplotlib.pyplot as plt
import pandas as pd

# Tạo confusion matrix
cm = confusion_matrix(predictions, targets[1501:])

# Đưa về DataFrame
conf_matrix = pd.DataFrame(data=cm)

# Thiết lập giao diện và kiểu hiển thị
sns.set(font_scale=1.0)
sns.set_style("dark")

# Vẽ heatmap
plt.figure(figsize=(8, 5))
ax = sns.heatmap(conf_matrix, annot=True, fmt='d', cmap="YlGnBu", cbar=True)

# Thêm tiêu đề và định dạng
plt.title("Confusion Matrix trình bày dưới dạng heatmap", fontsize=12, pad=10)
plt.xlabel("")
plt.ylabel("")

plt.tight_layout()

# Chỉ gọi plt.show() MỘT LẦN, sau cùng
plt.show()

# Không để cell kết thúc bằng một đối tượng (vd. 'conf_matrix' hoặc 'ax')
# => tránh Jupyter tự hiển thị lại ma trận thứ 2









from sklearn.metrics import classification_report
print(classification_report(predictions, targets[1501:]))












